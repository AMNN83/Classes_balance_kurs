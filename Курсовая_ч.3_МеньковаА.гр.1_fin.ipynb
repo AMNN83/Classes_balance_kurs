{
 "cells": [
  {
   "cell_type": "markdown",
   "id": "23dc4351",
   "metadata": {},
   "source": [
    " ### Постановка задачи."
   ]
  },
  {
   "cell_type": "markdown",
   "id": "7d697a70",
   "metadata": {},
   "source": [
    "В компании SkyCrossroads запущена рекламная акция:\n",
    "\n",
    "Клиент может получить дополнительные баллы лояльности за покупку, совершенную в течение ограниченного периода.\n",
    "\n",
    "Классическая акция подразумевает получение дополнительных 1000 баллов лояльности за покупку от 100 рублей. \n",
    "\n",
    "Было решено запустить АБ Тест, в котором в тестовой группе предлагается в два раза больше баллов лояльности за покупку от 100 рублей. \n",
    "\n",
    "Эксперимент был проведен в нескольких торговых точках, которые в датасете представлены столбцом id_point. Также в датасете есть информация о том, как долго клиент зарегистрирован у нас в программе лояльности.\n",
    "\n",
    "Вам поступил запрос от отдела маркетинга:\n",
    "\n",
    "- Рассчитать результаты эксперимента в целом и в отдельности по каждой торговой точке\n",
    "- Вынести решение об эффективности воздействия Б по сравнению с воздействием А\n",
    "- Сделать сегментацию пользователей с точки зрения длительности регистрации в программе лояльности\n"
   ]
  },
  {
   "cell_type": "code",
   "execution_count": 3,
   "id": "0bbf8e80",
   "metadata": {},
   "outputs": [],
   "source": [
    "import pandas as pd\n",
    "import numpy as np\n",
    "import seaborn as sns\n",
    "import scipy.stats as spst"
   ]
  },
  {
   "cell_type": "code",
   "execution_count": 4,
   "id": "5f65bd73",
   "metadata": {},
   "outputs": [],
   "source": [
    "import warnings\n",
    "warnings.filterwarnings('ignore')"
   ]
  },
  {
   "cell_type": "markdown",
   "id": "880d6425",
   "metadata": {},
   "source": [
    "## Часть 1. Создание статистических функций"
   ]
  },
  {
   "cell_type": "markdown",
   "id": "4c740fab",
   "metadata": {},
   "source": [
    "Расшифровка данных\n",
    "    id_client - уникальный id клиента\n",
    "    id_group- контроль (1000 баллов лояльности) / тест (2000 баллов лояльности)\n",
    "    sum_pay - сумма, на которую была совершена покупка\n",
    "    id_point - id торговой точки\n",
    "    months_reg - длительность регистрации клиента в программе лояльности"
   ]
  },
  {
   "cell_type": "code",
   "execution_count": 5,
   "id": "b0cabe03",
   "metadata": {},
   "outputs": [
    {
     "data": {
      "text/html": [
       "<div>\n",
       "<style scoped>\n",
       "    .dataframe tbody tr th:only-of-type {\n",
       "        vertical-align: middle;\n",
       "    }\n",
       "\n",
       "    .dataframe tbody tr th {\n",
       "        vertical-align: top;\n",
       "    }\n",
       "\n",
       "    .dataframe thead th {\n",
       "        text-align: right;\n",
       "    }\n",
       "</style>\n",
       "<table border=\"1\" class=\"dataframe\">\n",
       "  <thead>\n",
       "    <tr style=\"text-align: right;\">\n",
       "      <th></th>\n",
       "      <th>id_client</th>\n",
       "      <th>id_group</th>\n",
       "      <th>sum_pay</th>\n",
       "      <th>id_point</th>\n",
       "      <th>months_reg</th>\n",
       "    </tr>\n",
       "  </thead>\n",
       "  <tbody>\n",
       "    <tr>\n",
       "      <th>0</th>\n",
       "      <td>1420218</td>\n",
       "      <td>test</td>\n",
       "      <td>3288.0</td>\n",
       "      <td>1199.0</td>\n",
       "      <td>8</td>\n",
       "    </tr>\n",
       "    <tr>\n",
       "      <th>1</th>\n",
       "      <td>1390221</td>\n",
       "      <td>control</td>\n",
       "      <td>1267.0</td>\n",
       "      <td>1182.0</td>\n",
       "      <td>11</td>\n",
       "    </tr>\n",
       "    <tr>\n",
       "      <th>2</th>\n",
       "      <td>1363404</td>\n",
       "      <td>control</td>\n",
       "      <td>4259.0</td>\n",
       "      <td>1178.0</td>\n",
       "      <td>2</td>\n",
       "    </tr>\n",
       "    <tr>\n",
       "      <th>3</th>\n",
       "      <td>1370042</td>\n",
       "      <td>test</td>\n",
       "      <td>7211.0</td>\n",
       "      <td>1179.0</td>\n",
       "      <td>3</td>\n",
       "    </tr>\n",
       "    <tr>\n",
       "      <th>4</th>\n",
       "      <td>1360376</td>\n",
       "      <td>control</td>\n",
       "      <td>760.0</td>\n",
       "      <td>1178.0</td>\n",
       "      <td>14</td>\n",
       "    </tr>\n",
       "    <tr>\n",
       "      <th>...</th>\n",
       "      <td>...</td>\n",
       "      <td>...</td>\n",
       "      <td>...</td>\n",
       "      <td>...</td>\n",
       "      <td>...</td>\n",
       "    </tr>\n",
       "    <tr>\n",
       "      <th>10971</th>\n",
       "      <td>1359021</td>\n",
       "      <td>control</td>\n",
       "      <td>799.0</td>\n",
       "      <td>1178.0</td>\n",
       "      <td>3</td>\n",
       "    </tr>\n",
       "    <tr>\n",
       "      <th>10972</th>\n",
       "      <td>1363347</td>\n",
       "      <td>control</td>\n",
       "      <td>4825.0</td>\n",
       "      <td>1178.0</td>\n",
       "      <td>6</td>\n",
       "    </tr>\n",
       "    <tr>\n",
       "      <th>10973</th>\n",
       "      <td>1373031</td>\n",
       "      <td>test</td>\n",
       "      <td>673.0</td>\n",
       "      <td>1179.0</td>\n",
       "      <td>1</td>\n",
       "    </tr>\n",
       "    <tr>\n",
       "      <th>10974</th>\n",
       "      <td>1370292</td>\n",
       "      <td>test</td>\n",
       "      <td>1120.0</td>\n",
       "      <td>1179.0</td>\n",
       "      <td>1</td>\n",
       "    </tr>\n",
       "    <tr>\n",
       "      <th>10975</th>\n",
       "      <td>1370038</td>\n",
       "      <td>test</td>\n",
       "      <td>5348.0</td>\n",
       "      <td>1179.0</td>\n",
       "      <td>8</td>\n",
       "    </tr>\n",
       "  </tbody>\n",
       "</table>\n",
       "<p>10976 rows × 5 columns</p>\n",
       "</div>"
      ],
      "text/plain": [
       "       id_client id_group  sum_pay  id_point  months_reg\n",
       "0        1420218     test   3288.0    1199.0           8\n",
       "1        1390221  control   1267.0    1182.0          11\n",
       "2        1363404  control   4259.0    1178.0           2\n",
       "3        1370042     test   7211.0    1179.0           3\n",
       "4        1360376  control    760.0    1178.0          14\n",
       "...          ...      ...      ...       ...         ...\n",
       "10971    1359021  control    799.0    1178.0           3\n",
       "10972    1363347  control   4825.0    1178.0           6\n",
       "10973    1373031     test    673.0    1179.0           1\n",
       "10974    1370292     test   1120.0    1179.0           1\n",
       "10975    1370038     test   5348.0    1179.0           8\n",
       "\n",
       "[10976 rows x 5 columns]"
      ]
     },
     "execution_count": 5,
     "metadata": {},
     "output_type": "execute_result"
    }
   ],
   "source": [
    "df = pd.read_csv('Dataset_AB_TEST.csv', sep = ';')\n",
    "df"
   ]
  },
  {
   "cell_type": "code",
   "execution_count": 6,
   "id": "83e52bc6",
   "metadata": {},
   "outputs": [
    {
     "name": "stdout",
     "output_type": "stream",
     "text": [
      "<class 'pandas.core.frame.DataFrame'>\n",
      "RangeIndex: 10976 entries, 0 to 10975\n",
      "Data columns (total 5 columns):\n",
      " #   Column      Non-Null Count  Dtype  \n",
      "---  ------      --------------  -----  \n",
      " 0   id_client   10976 non-null  int64  \n",
      " 1   id_group    10902 non-null  object \n",
      " 2   sum_pay     10849 non-null  float64\n",
      " 3   id_point    10895 non-null  float64\n",
      " 4   months_reg  10976 non-null  int64  \n",
      "dtypes: float64(2), int64(2), object(1)\n",
      "memory usage: 428.9+ KB\n"
     ]
    }
   ],
   "source": [
    "df.info()"
   ]
  },
  {
   "cell_type": "markdown",
   "id": "c3901fdb",
   "metadata": {},
   "source": [
    "### Задача 1\n",
    "\n",
    "Постройте в Python функцию statistical_analysis, которая будет проводить анализ выборки. \n",
    "На вход она берет:\n",
    "- один ряд r в формате «список» (list) или «кортеж» (tuple). Это ряд, который необходимо исследовать.\n",
    "- один ряд q в формате «список» (list). Это ряд квантильных порогов, для которых необходимо вычислить квантильные значения ряда r. Аргумент q должен иметь значение по умолчанию q=[0.1,0.25,0.3,0.4,0.5,0.6,0.75,0.9] (но при желании значение ряда q можно было бы заменить)\n",
    "\n",
    "И делает следующие шаги:\n",
    "\n",
    "1. Проводит проверку на тип данных ряда : если тип данных ряда r не «список» (list) или «кортеж» (tuple), то выводит ошибку «Нужен список или кортеж!»  \n",
    "2. Проводит проверку на длину ряда r: если в нём 4 наблюдения или меньше, то выдает ошибку «Требуется более длинный ряд».\n",
    "3. Проводит преобразование типа данных «список» (list) или «кортеж» (tuple) в тип данных Series (pandas).\n",
    "4. Для ряда выводит (с помощью print и расшифровки) среднее (метод Series “mean”), дисперсию (метод Series “var”), стандартное отклонение (метод Series “std”).\n",
    "    \n",
    "Также записывает эти значения во внутренние переменные и возвращает эти переменные в return.\n",
    "    \n",
    "5. С помощью функции quantile из библиотеки numpy функция рассчитывает и записывает в отдельную переменную qs список из квантилей, соответствующих квантильным порогам из q. \n",
    "    \n",
    "    Можно прочитать документацию функции quantile: [https://numpy.org/doc/stable/reference/generated/numpy.quantile.html](https://numpy.org/doc/stable/reference/generated/numpy.quantile.html)\n",
    "    \n",
    "    Ряд qs также должен быть в return функции (вместе со средним, дисперсией и стандартным отклонением из пункта-4).\n",
    "    \n",
    "6. Оформляет принт результатов квантильного анализа. Для этого необходимо проверить, есть ли среди указанных в аргументе квантильных порогов те, что соответствуют медиане, квартилям или децилям. Если такие квантильные пороги есть, то для каждого из них оформите print с указанием квантильного порога и его значения.\n",
    "7. Для ряда функция statistical_analysis строит гистограмму с помощью библиотеки seaborn."
   ]
  },
  {
   "cell_type": "markdown",
   "id": "2a9805c3",
   "metadata": {},
   "source": [
    "Построим функцию распределения и применим ее к выборке:"
   ]
  },
  {
   "cell_type": "code",
   "execution_count": 7,
   "id": "b32a1bf8",
   "metadata": {},
   "outputs": [],
   "source": [
    "q=[0.1,0.25,0.3,0.4,0.5,0.6,0.75,0.9]\n",
    "def statistical_analysis (r, q=[0.1,0.25,0.3,0.4,0.5,0.6,0.75,0.9]):\n",
    "    if type(r) != (list or tuple):\n",
    "        print ('Нужен список или кортеж!')\n",
    "    elif len(r) <= 4:\n",
    "        print ('Требуется более длинный ряд.')\n",
    "    else:\n",
    "        rs = pd.Series(r)\n",
    "        rs_mean = rs.mean()\n",
    "        rs_var = rs.var()\n",
    "        rs_std = rs.std()\n",
    "        print ('Среднее значение -', round(rs_mean, 2))\n",
    "        print ('Диспресия значений - ', round(rs_var, 2))\n",
    "        print ('Стандартное отклонение значений - ', round(rs_std, 2))\n",
    "        qs = np.quantile(r,q)\n",
    "        for i in q:\n",
    "            print ('Квантиль ', int(i*100), '% - ', np.quantile(r, i))\n",
    "        sns.histplot(data=r, color = 'yellowgreen')\n",
    "        return rs_mean, rs_var, rs_std, qs\n",
    "    "
   ]
  },
  {
   "cell_type": "code",
   "execution_count": 8,
   "id": "7e52b54f",
   "metadata": {},
   "outputs": [
    {
     "name": "stdout",
     "output_type": "stream",
     "text": [
      "Среднее значение - 3568.75\n",
      "Диспресия значений -  8568292.5\n",
      "Стандартное отклонение значений -  2927.16\n",
      "Квантиль  10 % -  410.0\n",
      "Квантиль  25 % -  1251.0\n",
      "Квантиль  30 % -  1590.4\n",
      "Квантиль  40 % -  2331.0\n",
      "Квантиль  50 % -  3173.0\n",
      "Квантиль  60 % -  3934.0\n",
      "Квантиль  75 % -  5358.0\n",
      "Квантиль  90 % -  7088.4000000000015\n"
     ]
    },
    {
     "data": {
      "text/plain": [
       "(3568.751036961932,\n",
       " 8568292.495626044,\n",
       " 2927.164582941322,\n",
       " array([ 410. , 1251. , 1590.4, 2331. , 3173. , 3934. , 5358. , 7088.4]))"
      ]
     },
     "execution_count": 8,
     "metadata": {},
     "output_type": "execute_result"
    },
    {
     "data": {
      "image/png": "[encoded data removed]",
      "text/plain": [
       "<Figure size 432x288 with 1 Axes>"
      ]
     },
     "metadata": {
      "needs_background": "light"
     },
     "output_type": "display_data"
    }
   ],
   "source": [
    "ran = list(df['sum_pay'].dropna())\n",
    "statistical_analysis(ran, q)\n"
   ]
  },
  {
   "cell_type": "markdown",
   "id": "c636432e",
   "metadata": {},
   "source": [
    "На графике видно, что полученный график распределения смещен влево, а в правой части несколько значений, заметно отличающихся от основной часть распределения. Это выбросы, которые для дальнейшего анализа следует удалить для получения наиболее корректных результатов анализа."
   ]
  },
  {
   "cell_type": "markdown",
   "id": "083ce2f3",
   "metadata": {},
   "source": [
    "### Задача 2\n",
    "\n",
    "Постройте в Python функцию test_calc, которая будет проводить t-тест на равенство средних двух выборок. \n",
    "На вход она берет:\n",
    "- Ряд 1 (r1)\n",
    "- Ряд 2 (r2)\n",
    "- Уровень значимости alpha (имеет дефолтное значение = 5%)\n",
    "И делает следующие шаги:\n",
    "1. Вычисляет значение t-критерия и его p_value по сравнению средних значений рядов r1 и r2.\n",
    "Лучше всего воспользоваться функцией ttest_ind из библиотеки scipy.stats.\n",
    "Эти значения сохраняются во внутренние переменные (значение t-критерия в переменную s, p_value в переменную p).\n",
    "2. Возвращает (return) переменные s и p.\n",
    "3. Оформляет принт результатов, принимается ли нулевая гипотеза о равенстве средних или нет на основании сравнения полученного p_value (переменная р) и аргумента alpha."
   ]
  },
  {
   "cell_type": "code",
   "execution_count": 9,
   "id": "fb1e68b1",
   "metadata": {},
   "outputs": [],
   "source": [
    "def test_calc (r1, r2, alpha = 0.05):\n",
    "    s, p = spst.ttest_ind(r1, r2)\n",
    "    if p > alpha:\n",
    "        print('Нулевая гипотеза принимается')\n",
    "    else:\n",
    "        print('Нулевая гипотеза не принимается')\n",
    "    print ('t-критерий = ', s)   \n",
    "    print ('p-value = ', p)"
   ]
  },
  {
   "cell_type": "code",
   "execution_count": 10,
   "id": "3572cb1a",
   "metadata": {},
   "outputs": [
    {
     "name": "stdout",
     "output_type": "stream",
     "text": [
      "Нулевая гипотеза не принимается\n",
      "t-критерий =  127.56059540922202\n",
      "p-value =  0.0\n"
     ]
    }
   ],
   "source": [
    "test_calc(df['sum_pay'].dropna(), df['months_reg'].dropna())"
   ]
  },
  {
   "cell_type": "markdown",
   "id": "5184f4a5",
   "metadata": {},
   "source": [
    "### Задача 3\n",
    "\n",
    "Постройте в Python функцию mann_whitney_func, которая будет проводить тест Манна-Уитни для двух выборок.\n",
    "\n",
    "На вход она берет:\n",
    "\n",
    "- Ряд 1 (r1)\n",
    "- Ряд 2 (r2)\n",
    "- Уровень значимости alpha (имеет дефолтное значение = 5%)\n",
    "\n",
    "И делает следующие шаги:\n",
    "\n",
    "1. Вычисляет значение статистики Манна — Уитни и p_value нулевой гипотезы теста Манна-Уитни. Значение статистики записывается во внутреннюю переменную s, а p_value - во внутреннюю переменную p.\n",
    "2. Принт результата в зависимости от соотношения p_value и alpha («Распределения (не) равны»).\n",
    "3. Возвращает (в *return*) — внутренние переменные s и p."
   ]
  },
  {
   "cell_type": "code",
   "execution_count": 11,
   "id": "5333ae19",
   "metadata": {},
   "outputs": [],
   "source": [
    "def mann_whitney_func (r1, r2, alpha = 0.05):\n",
    "    s, p = spst.mannwhitneyu(r1, r2)\n",
    "    s = round(s, 2)\n",
    "    p = round(p, 6)\n",
    "    if p > alpha:\n",
    "        print ('Распределения равны.')\n",
    "    else:\n",
    "        print ('Распределения не равны.') \n",
    "    return s, p"
   ]
  },
  {
   "cell_type": "code",
   "execution_count": 12,
   "id": "07c0c217",
   "metadata": {},
   "outputs": [
    {
     "name": "stdout",
     "output_type": "stream",
     "text": [
      "Распределения не равны.\n"
     ]
    },
    {
     "data": {
      "text/plain": [
       "(119078624.0, 0.0)"
      ]
     },
     "execution_count": 12,
     "metadata": {},
     "output_type": "execute_result"
    }
   ],
   "source": [
    "mann_whitney_func (df['sum_pay'].dropna(), df['months_reg'].dropna())"
   ]
  },
  {
   "cell_type": "markdown",
   "id": "a6f99ebd",
   "metadata": {},
   "source": [
    "_______"
   ]
  },
  {
   "cell_type": "markdown",
   "id": "1c562e30",
   "metadata": {},
   "source": [
    "## Часть 2. Расчет A/B теста"
   ]
  },
  {
   "cell_type": "markdown",
   "id": "300d556b",
   "metadata": {},
   "source": [
    "### Задача 1\n",
    "\n",
    "**Проведите общий анализ A/B Теста**\n",
    "\n",
    "1. С помощью функции *read-csv* импортните csv файл с датасетом.\n",
    "2. Исследуйте данные. Проведите очистку данных от нуллов и выбросов (для очистки от выбросов  используйте созданную в первом шаге функцию ***statistical_analysis***).\n",
    "3. Создайте функцию для визуализации ***show_hist***, которая имеет следующие аргументы:\n",
    "    - ***r1*** (первый ряд для визуализации)\n",
    "    - ***r2*** (второй ряд для визуализации)\n",
    "    - ***graph_titile*** (Строка-название графика)\n",
    "    - ***xlabel*** (подпись оси Х с дефолтным значением “*Размер платежа*”)\n",
    "    - ***ylabel*** (подпись оси Y с дефолтным значением “*Кол-во людей*”)\n",
    "    \n",
    "    Функция должна с помощью библиотеки ***seaborn*** строить гистограмму для каждого из рядов (вместе на одном графике) и подписывать график (***graph_titile)*** и оси ***(xlabel, ylabel)***.\n",
    "    \n",
    "4. Проведите визуализацию с помощью функции ***show_hist*** для сравнения результатов в А и В группе.\n",
    "5. Посмотрите на результаты параметрического и непараметрического теста (используйте созданные в первой шаге функции ***mann_whitney_func*** и ***test_calc***).\n",
    "6. Сделайте выводы."
   ]
  },
  {
   "cell_type": "markdown",
   "id": "465fe958",
   "metadata": {},
   "source": [
    "Подготовим данные к анализу. Для начала проверим, сколько нулевых значений в каждом столбце:"
   ]
  },
  {
   "cell_type": "code",
   "execution_count": 13,
   "id": "d6adb3df",
   "metadata": {},
   "outputs": [
    {
     "data": {
      "text/plain": [
       "id_client       0\n",
       "id_group       74\n",
       "sum_pay       127\n",
       "id_point       81\n",
       "months_reg      0\n",
       "dtype: int64"
      ]
     },
     "execution_count": 13,
     "metadata": {},
     "output_type": "execute_result"
    }
   ],
   "source": [
    "df.isna().sum()"
   ]
  },
  {
   "cell_type": "markdown",
   "id": "8fb8e03a",
   "metadata": {},
   "source": [
    "Проверим, сколько строк потеряем, если выбросим из датасета все строки с нулевыми значениями:"
   ]
  },
  {
   "cell_type": "code",
   "execution_count": 14,
   "id": "0fb4a1c6",
   "metadata": {},
   "outputs": [
    {
     "name": "stdout",
     "output_type": "stream",
     "text": [
      "<class 'pandas.core.frame.DataFrame'>\n",
      "Int64Index: 10840 entries, 0 to 10975\n",
      "Data columns (total 5 columns):\n",
      " #   Column      Non-Null Count  Dtype  \n",
      "---  ------      --------------  -----  \n",
      " 0   id_client   10840 non-null  int64  \n",
      " 1   id_group    10840 non-null  object \n",
      " 2   sum_pay     10840 non-null  float64\n",
      " 3   id_point    10840 non-null  float64\n",
      " 4   months_reg  10840 non-null  int64  \n",
      "dtypes: float64(2), int64(2), object(1)\n",
      "memory usage: 508.1+ KB\n"
     ]
    }
   ],
   "source": [
    "df.dropna().info()"
   ]
  },
  {
   "cell_type": "markdown",
   "id": "90fb0126",
   "metadata": {},
   "source": [
    "В процентах это:"
   ]
  },
  {
   "cell_type": "code",
   "execution_count": 15,
   "id": "cc8c0086",
   "metadata": {},
   "outputs": [
    {
     "data": {
      "text/plain": [
       "1.239067055393586"
      ]
     },
     "execution_count": 15,
     "metadata": {},
     "output_type": "execute_result"
    }
   ],
   "source": [
    "(10976-10840)*100/10976"
   ]
  },
  {
   "cell_type": "markdown",
   "id": "56955fe1",
   "metadata": {},
   "source": [
    "Меньше 5%, это допустимо, однако, чтобы не допустить удаления нулевых покупок, удалим только строки с NaN по столбцам id_group и id_point "
   ]
  },
  {
   "cell_type": "code",
   "execution_count": 16,
   "id": "d75269d4",
   "metadata": {},
   "outputs": [],
   "source": [
    "df_clear = df.dropna(subset=['id_group', 'id_point'])"
   ]
  },
  {
   "cell_type": "code",
   "execution_count": 17,
   "id": "5d878f6e",
   "metadata": {},
   "outputs": [
    {
     "data": {
      "text/plain": [
       "id_client      0\n",
       "id_group       0\n",
       "sum_pay       54\n",
       "id_point       0\n",
       "months_reg     0\n",
       "dtype: int64"
      ]
     },
     "execution_count": 17,
     "metadata": {},
     "output_type": "execute_result"
    }
   ],
   "source": [
    "df_clear.isna().sum()"
   ]
  },
  {
   "cell_type": "markdown",
   "id": "a8734eb5",
   "metadata": {},
   "source": [
    "Оставшиеся NaN из столбца sum_pay заполним нулями:"
   ]
  },
  {
   "cell_type": "code",
   "execution_count": 18,
   "id": "a8e624a5",
   "metadata": {},
   "outputs": [],
   "source": [
    "df_clear = df_clear.fillna(0)"
   ]
  },
  {
   "cell_type": "code",
   "execution_count": 19,
   "id": "c8018c9f",
   "metadata": {},
   "outputs": [
    {
     "data": {
      "text/plain": [
       "id_client     0\n",
       "id_group      0\n",
       "sum_pay       0\n",
       "id_point      0\n",
       "months_reg    0\n",
       "dtype: int64"
      ]
     },
     "execution_count": 19,
     "metadata": {},
     "output_type": "execute_result"
    }
   ],
   "source": [
    "df_clear.isna().sum()"
   ]
  },
  {
   "cell_type": "code",
   "execution_count": 20,
   "id": "3a539ceb",
   "metadata": {},
   "outputs": [
    {
     "name": "stdout",
     "output_type": "stream",
     "text": [
      "<class 'pandas.core.frame.DataFrame'>\n",
      "Int64Index: 10894 entries, 0 to 10975\n",
      "Data columns (total 5 columns):\n",
      " #   Column      Non-Null Count  Dtype  \n",
      "---  ------      --------------  -----  \n",
      " 0   id_client   10894 non-null  int64  \n",
      " 1   id_group    10894 non-null  object \n",
      " 2   sum_pay     10894 non-null  float64\n",
      " 3   id_point    10894 non-null  float64\n",
      " 4   months_reg  10894 non-null  int64  \n",
      "dtypes: float64(2), int64(2), object(1)\n",
      "memory usage: 510.7+ KB\n"
     ]
    }
   ],
   "source": [
    "df_clear.info()"
   ]
  },
  {
   "cell_type": "markdown",
   "id": "147a2327",
   "metadata": {},
   "source": [
    "Теперь проверим на наличие выбросов по столбцу суммы платежа, квантиль 99%:"
   ]
  },
  {
   "cell_type": "code",
   "execution_count": 21,
   "id": "55aaba76",
   "metadata": {},
   "outputs": [
    {
     "name": "stdout",
     "output_type": "stream",
     "text": [
      "Среднее значение - 3551.07\n",
      "Диспресия значений -  8589277.6\n",
      "Стандартное отклонение значений -  2930.75\n",
      "Квантиль  99 % -  9801.119999999995\n"
     ]
    },
    {
     "data": {
      "text/plain": [
       "(3551.0682026803747, 8589277.602894131, 2930.746936003539, array([9801.12]))"
      ]
     },
     "execution_count": 21,
     "metadata": {},
     "output_type": "execute_result"
    },
    {
     "data": {
      "image/png": "[encoded data removed]",
      "text/plain": [
       "<Figure size 432x288 with 1 Axes>"
      ]
     },
     "metadata": {
      "needs_background": "light"
     },
     "output_type": "display_data"
    }
   ],
   "source": [
    "q=[0.99]\n",
    "statistical_analysis(list(df_clear['sum_pay']), q)"
   ]
  },
  {
   "cell_type": "markdown",
   "id": "b8d76317",
   "metadata": {},
   "source": [
    "И по столбцу количества месяцев регистрации, квантиль также 99%:"
   ]
  },
  {
   "cell_type": "code",
   "execution_count": 22,
   "id": "4ad2f9bd",
   "metadata": {},
   "outputs": [
    {
     "name": "stdout",
     "output_type": "stream",
     "text": [
      "Среднее значение - 4.7\n",
      "Диспресия значений -  10.1\n",
      "Стандартное отклонение значений -  3.18\n",
      "Квантиль  99 % -  13.0\n"
     ]
    },
    {
     "data": {
      "text/plain": [
       "(4.702037818982927, 10.101791495494448, 3.1783315584586904, array([13.]))"
      ]
     },
     "execution_count": 22,
     "metadata": {},
     "output_type": "execute_result"
    },
    {
     "data": {
      "image/png": "[encoded data removed]",
      "text/plain": [
       "<Figure size 432x288 with 1 Axes>"
      ]
     },
     "metadata": {
      "needs_background": "light"
     },
     "output_type": "display_data"
    }
   ],
   "source": [
    "q=[0.99]\n",
    "statistical_analysis(list(df_clear['months_reg']), q)"
   ]
  },
  {
   "cell_type": "markdown",
   "id": "057e054c",
   "metadata": {},
   "source": [
    "Попробуем удалить 1% выбросов по сумме платежей:"
   ]
  },
  {
   "cell_type": "code",
   "execution_count": 23,
   "id": "3f1f61a8",
   "metadata": {},
   "outputs": [
    {
     "name": "stdout",
     "output_type": "stream",
     "text": [
      "<class 'pandas.core.frame.DataFrame'>\n",
      "Int64Index: 10785 entries, 0 to 10975\n",
      "Data columns (total 5 columns):\n",
      " #   Column      Non-Null Count  Dtype  \n",
      "---  ------      --------------  -----  \n",
      " 0   id_client   10785 non-null  int64  \n",
      " 1   id_group    10785 non-null  object \n",
      " 2   sum_pay     10785 non-null  float64\n",
      " 3   id_point    10785 non-null  float64\n",
      " 4   months_reg  10785 non-null  int64  \n",
      "dtypes: float64(2), int64(2), object(1)\n",
      "memory usage: 505.5+ KB\n"
     ]
    }
   ],
   "source": [
    "df_clear.loc[df_clear['sum_pay'] < 9801.119999999995].info()"
   ]
  },
  {
   "cell_type": "markdown",
   "id": "091414e5",
   "metadata": {},
   "source": [
    "Тогда общий процент удаленных строк будет равен:"
   ]
  },
  {
   "cell_type": "code",
   "execution_count": 24,
   "id": "e009e9b9",
   "metadata": {},
   "outputs": [
    {
     "data": {
      "text/plain": [
       "2.232142857142857"
      ]
     },
     "execution_count": 24,
     "metadata": {},
     "output_type": "execute_result"
    }
   ],
   "source": [
    "(10976-10731)*100/10976"
   ]
  },
  {
   "cell_type": "markdown",
   "id": "37eb06c2",
   "metadata": {},
   "source": [
    "Допустимо, удаляем и смотрим, сколько получится выбросить по стоблцу с количеством месяцев регистрации:"
   ]
  },
  {
   "cell_type": "code",
   "execution_count": 25,
   "id": "91f768fe",
   "metadata": {},
   "outputs": [],
   "source": [
    "df_clear = df_clear.loc[df_clear['sum_pay'] < 9801.119999999995]"
   ]
  },
  {
   "cell_type": "code",
   "execution_count": 26,
   "id": "4a1625b3",
   "metadata": {},
   "outputs": [
    {
     "name": "stdout",
     "output_type": "stream",
     "text": [
      "<class 'pandas.core.frame.DataFrame'>\n",
      "Int64Index: 10623 entries, 0 to 10975\n",
      "Data columns (total 5 columns):\n",
      " #   Column      Non-Null Count  Dtype  \n",
      "---  ------      --------------  -----  \n",
      " 0   id_client   10623 non-null  int64  \n",
      " 1   id_group    10623 non-null  object \n",
      " 2   sum_pay     10623 non-null  float64\n",
      " 3   id_point    10623 non-null  float64\n",
      " 4   months_reg  10623 non-null  int64  \n",
      "dtypes: float64(2), int64(2), object(1)\n",
      "memory usage: 498.0+ KB\n"
     ]
    }
   ],
   "source": [
    "df_clear.loc[df_clear['months_reg'] < 13].info()"
   ]
  },
  {
   "cell_type": "code",
   "execution_count": 27,
   "id": "d69004b7",
   "metadata": {},
   "outputs": [
    {
     "data": {
      "text/plain": [
       "3.2161078717201166"
      ]
     },
     "execution_count": 27,
     "metadata": {},
     "output_type": "execute_result"
    }
   ],
   "source": [
    "(10976-10623)*100/10976"
   ]
  },
  {
   "cell_type": "markdown",
   "id": "c72efb64",
   "metadata": {},
   "source": [
    "Итого общая потеря строк составляет менее 5%, это допустимо, можно удалить и выбросы по количеству месяцев регистрации, удаляем."
   ]
  },
  {
   "cell_type": "code",
   "execution_count": 28,
   "id": "46148eea",
   "metadata": {},
   "outputs": [],
   "source": [
    "df_clear = df_clear.loc[df_clear['months_reg'] < 13]"
   ]
  },
  {
   "cell_type": "markdown",
   "id": "6843684f",
   "metadata": {},
   "source": [
    "Удостоверимся на графиках, что выбросов теперь действительно нет:"
   ]
  },
  {
   "cell_type": "code",
   "execution_count": 103,
   "id": "c17480dd",
   "metadata": {},
   "outputs": [],
   "source": [
    "import matplotlib.pyplot as plt"
   ]
  },
  {
   "cell_type": "code",
   "execution_count": 30,
   "id": "91c970a5",
   "metadata": {},
   "outputs": [
    {
     "data": {
      "image/png": "[encoded data removed]",
      "text/plain": [
       "<Figure size 144x288 with 1 Axes>"
      ]
     },
     "metadata": {
      "needs_background": "light"
     },
     "output_type": "display_data"
    }
   ],
   "source": [
    "plt.figure(figsize = (2, 4))\n",
    "plt.boxplot(df_clear['sum_pay'])\n",
    "plt.grid()\n",
    "plt.show()"
   ]
  },
  {
   "cell_type": "code",
   "execution_count": 31,
   "id": "e38a58fb",
   "metadata": {},
   "outputs": [
    {
     "data": {
      "image/png": "[encoded data removed]",
      "text/plain": [
       "<Figure size 144x288 with 1 Axes>"
      ]
     },
     "metadata": {
      "needs_background": "light"
     },
     "output_type": "display_data"
    }
   ],
   "source": [
    "plt.figure(figsize = (2, 4))\n",
    "plt.boxplot(df_clear['months_reg'])\n",
    "plt.grid()\n",
    "plt.show()"
   ]
  },
  {
   "cell_type": "markdown",
   "id": "15094260",
   "metadata": {},
   "source": [
    "Датасет готов к анализу. Построим график распределения платежей по сумме в тестовой и контрольной группе:"
   ]
  },
  {
   "cell_type": "code",
   "execution_count": 38,
   "id": "45de6f80",
   "metadata": {},
   "outputs": [],
   "source": [
    "graph_title = 'График распределения размера платежа'\n",
    "def show_hist(x, graph_title = 'График распределения размера платежа'):\n",
    "    r1 = x[x['id_group']=='test']['sum_pay']\n",
    "    r2 = x[x['id_group']=='control']['sum_pay']\n",
    "    plt.figure(figsize = (8, 4))\n",
    "    plt.title(graph_title)\n",
    "    plt.xlabel ('Размер платежа')\n",
    "    plt.ylabel ('Кол-во людей')\n",
    "    ax1 = sns.histplot(r1, color='lightcoral', label = 'test', legend = True)\n",
    "    plt.axvline(x=r1.mean(), ls = '--', c = 'lightcoral')\n",
    "    ax2 = sns.histplot(r2, color='lightskyblue', label = 'control', legend = True)\n",
    "    plt.axvline(x=r2.mean(), ls = '--', c = 'lightskyblue')\n",
    "    plt.legend()"
   ]
  },
  {
   "cell_type": "code",
   "execution_count": 39,
   "id": "062b56c1",
   "metadata": {},
   "outputs": [
    {
     "data": {
      "image/png": "[encoded data removed]",
      "text/plain": [
       "<Figure size 576x288 with 1 Axes>"
      ]
     },
     "metadata": {
      "needs_background": "light"
     },
     "output_type": "display_data"
    }
   ],
   "source": [
    "x = df_clear\n",
    "show_hist(x)"
   ]
  },
  {
   "cell_type": "markdown",
   "id": "3d8f06ed",
   "metadata": {},
   "source": [
    "Визуальная оценка: количественные различия есть, но в целом распределения выглядят одинаково. Проверим с помощью тестов:"
   ]
  },
  {
   "cell_type": "code",
   "execution_count": 40,
   "id": "9cab8a35",
   "metadata": {},
   "outputs": [
    {
     "name": "stdout",
     "output_type": "stream",
     "text": [
      "Нулевая гипотеза не принимается\n",
      "t-критерий =  2.8688730167774565\n",
      "p-value =  0.004127493108471625\n"
     ]
    }
   ],
   "source": [
    "r1 = df_clear[df_clear['id_group']=='test']['sum_pay']\n",
    "r2 = df_clear[df_clear['id_group']=='control']['sum_pay']\n",
    "test_calc(r1, r2)"
   ]
  },
  {
   "cell_type": "code",
   "execution_count": 41,
   "id": "d9801e60",
   "metadata": {},
   "outputs": [
    {
     "name": "stdout",
     "output_type": "stream",
     "text": [
      "Распределения равны.\n"
     ]
    },
    {
     "data": {
      "text/plain": [
       "(14293618.5, 0.17683)"
      ]
     },
     "execution_count": 41,
     "metadata": {},
     "output_type": "execute_result"
    }
   ],
   "source": [
    "mann_whitney_func (r1, r2)"
   ]
  },
  {
   "cell_type": "markdown",
   "id": "94fe19d7",
   "metadata": {},
   "source": [
    "Вывод: между тестовой и контрольной группами есть различия в средних, а распределения действительно одинаковые."
   ]
  },
  {
   "cell_type": "markdown",
   "id": "fe11e721",
   "metadata": {},
   "source": [
    "### Задача 2\n",
    "\n",
    "**Анализ по торговым точкам**\n",
    "\n",
    "1. Создайте цикл, пробегающий по всем уникальным торговым точкам.\n",
    "2. Для каждой торговой точки проведите визуализацию с помощью гистограммы для сравнения результатов в А и В группе (используйте функцию ***show_hist).***\n",
    "3. Для каждой торговой точки посмотрите на результаты параметрического и непараметрического теста для сравнения групп А и В (используйте функции ***mann_whitney_func*** и ***test_calc***).\n",
    "4. Убедитесь, что в торговых точках, по которым вы делаете выводы, достаточное количество наблюдений.\n",
    "5. Для каждой торговой точки с достаточным количеством наблюдений сделайте выводы."
   ]
  },
  {
   "cell_type": "code",
   "execution_count": 42,
   "id": "3c99306a",
   "metadata": {},
   "outputs": [
    {
     "data": {
      "text/html": [
       "<div>\n",
       "<style scoped>\n",
       "    .dataframe tbody tr th:only-of-type {\n",
       "        vertical-align: middle;\n",
       "    }\n",
       "\n",
       "    .dataframe tbody tr th {\n",
       "        vertical-align: top;\n",
       "    }\n",
       "\n",
       "    .dataframe thead th {\n",
       "        text-align: right;\n",
       "    }\n",
       "</style>\n",
       "<table border=\"1\" class=\"dataframe\">\n",
       "  <thead>\n",
       "    <tr style=\"text-align: right;\">\n",
       "      <th></th>\n",
       "      <th>id_client</th>\n",
       "      <th>id_group</th>\n",
       "      <th>sum_pay</th>\n",
       "      <th>id_point</th>\n",
       "      <th>months_reg</th>\n",
       "    </tr>\n",
       "  </thead>\n",
       "  <tbody>\n",
       "    <tr>\n",
       "      <th>0</th>\n",
       "      <td>1420218</td>\n",
       "      <td>test</td>\n",
       "      <td>3288.0</td>\n",
       "      <td>1199.0</td>\n",
       "      <td>8</td>\n",
       "    </tr>\n",
       "    <tr>\n",
       "      <th>1</th>\n",
       "      <td>1390221</td>\n",
       "      <td>control</td>\n",
       "      <td>1267.0</td>\n",
       "      <td>1182.0</td>\n",
       "      <td>11</td>\n",
       "    </tr>\n",
       "    <tr>\n",
       "      <th>2</th>\n",
       "      <td>1363404</td>\n",
       "      <td>control</td>\n",
       "      <td>4259.0</td>\n",
       "      <td>1178.0</td>\n",
       "      <td>2</td>\n",
       "    </tr>\n",
       "    <tr>\n",
       "      <th>3</th>\n",
       "      <td>1370042</td>\n",
       "      <td>test</td>\n",
       "      <td>7211.0</td>\n",
       "      <td>1179.0</td>\n",
       "      <td>3</td>\n",
       "    </tr>\n",
       "    <tr>\n",
       "      <th>5</th>\n",
       "      <td>1371160</td>\n",
       "      <td>test</td>\n",
       "      <td>218.0</td>\n",
       "      <td>1179.0</td>\n",
       "      <td>5</td>\n",
       "    </tr>\n",
       "  </tbody>\n",
       "</table>\n",
       "</div>"
      ],
      "text/plain": [
       "   id_client id_group  sum_pay  id_point  months_reg\n",
       "0    1420218     test   3288.0    1199.0           8\n",
       "1    1390221  control   1267.0    1182.0          11\n",
       "2    1363404  control   4259.0    1178.0           2\n",
       "3    1370042     test   7211.0    1179.0           3\n",
       "5    1371160     test    218.0    1179.0           5"
      ]
     },
     "execution_count": 42,
     "metadata": {},
     "output_type": "execute_result"
    }
   ],
   "source": [
    "df_clear.head()"
   ]
  },
  {
   "cell_type": "markdown",
   "id": "456bb815",
   "metadata": {},
   "source": [
    "Создадим список уникальных торговых точек:"
   ]
  },
  {
   "cell_type": "code",
   "execution_count": 43,
   "id": "5eb78a1e",
   "metadata": {},
   "outputs": [
    {
     "data": {
      "text/plain": [
       "{1178.0, 1179.0, 1182.0, 1186.0, 1188.0, 1199.0}"
      ]
     },
     "execution_count": 43,
     "metadata": {},
     "output_type": "execute_result"
    }
   ],
   "source": [
    "tt = set(df_clear['id_point'])\n",
    "tt"
   ]
  },
  {
   "cell_type": "markdown",
   "id": "36cfd610",
   "metadata": {},
   "source": [
    "Напишем функцию, которая будет вызывать ранее написанную функцию для построения графиков распределения:"
   ]
  },
  {
   "cell_type": "code",
   "execution_count": 44,
   "id": "fcd0b59e",
   "metadata": {},
   "outputs": [],
   "source": [
    "def tt_analysis (y):\n",
    "    for i in tt:\n",
    "        x = y[y['id_point']==i]\n",
    "        graph_title = 'График распределения платежей торговой точки '+str(i)\n",
    "        show_hist(x, graph_title)"
   ]
  },
  {
   "cell_type": "markdown",
   "id": "751a961f",
   "metadata": {},
   "source": [
    "Применим построенную функцию к датасету, чтобы получить распределение платежей в контрольной и тестовой группе в каждой торговой точке:"
   ]
  },
  {
   "cell_type": "code",
   "execution_count": 45,
   "id": "27b76cfc",
   "metadata": {},
   "outputs": [
    {
     "data": {
      "image/png": "[encoded data removed]",
      "text/plain": [
       "<Figure size 576x288 with 1 Axes>"
      ]
     },
     "metadata": {
      "needs_background": "light"
     },
     "output_type": "display_data"
    },
    {
     "data": {
      "image/png": "[encoded data removed]",
      "text/plain": [
       "<Figure size 576x288 with 1 Axes>"
      ]
     },
     "metadata": {
      "needs_background": "light"
     },
     "output_type": "display_data"
    },
    {
     "data": {
      "image/png": "[encoded data removed]",
      "text/plain": [
       "<Figure size 576x288 with 1 Axes>"
      ]
     },
     "metadata": {
      "needs_background": "light"
     },
     "output_type": "display_data"
    },
    {
     "data": {
      "image/png": "[encoded data removed]",
      "text/plain": [
       "<Figure size 576x288 with 1 Axes>"
      ]
     },
     "metadata": {
      "needs_background": "light"
     },
     "output_type": "display_data"
    },
    {
     "data": {
      "image/png": "[encoded data removed]",
      "text/plain": [
       "<Figure size 576x288 with 1 Axes>"
      ]
     },
     "metadata": {
      "needs_background": "light"
     },
     "output_type": "display_data"
    },
    {
     "data": {
      "image/png": "[encoded data removed]",
      "text/plain": [
       "<Figure size 576x288 with 1 Axes>"
      ]
     },
     "metadata": {
      "needs_background": "light"
     },
     "output_type": "display_data"
    }
   ],
   "source": [
    "tt_analysis (df_clear)"
   ]
  },
  {
   "cell_type": "markdown",
   "id": "0370cb7d",
   "metadata": {},
   "source": [
    "На графиках видно, что количество наблюдений по двум торговым точкам очень маленькое, а по одной полностью отсутствует контрольная группа. Проверим группировкой датасета:"
   ]
  },
  {
   "cell_type": "code",
   "execution_count": 46,
   "id": "2aeca7e2",
   "metadata": {},
   "outputs": [
    {
     "data": {
      "text/plain": [
       "id_point  id_group\n",
       "1178.0    control     2372\n",
       "          test        2369\n",
       "1179.0    control     1685\n",
       "          test        1742\n",
       "1182.0    control     1000\n",
       "          test         914\n",
       "1186.0    control       23\n",
       "          test          40\n",
       "1188.0    control        5\n",
       "          test           5\n",
       "1199.0    test         468\n",
       "Name: id_client, dtype: int64"
      ]
     },
     "execution_count": 46,
     "metadata": {},
     "output_type": "execute_result"
    }
   ],
   "source": [
    "df_clear.groupby(['id_point', 'id_group'])['id_client'].count()"
   ]
  },
  {
   "cell_type": "code",
   "execution_count": 91,
   "id": "1f01437f",
   "metadata": {},
   "outputs": [
    {
     "data": {
      "text/plain": [
       "id_point\n",
       "1178.0    4741\n",
       "1179.0    3427\n",
       "1182.0    1914\n",
       "1186.0      63\n",
       "1188.0      10\n",
       "1199.0     468\n",
       "Name: id_client, dtype: int64"
      ]
     },
     "execution_count": 91,
     "metadata": {},
     "output_type": "execute_result"
    }
   ],
   "source": [
    "df_clear.groupby(['id_point'])['id_client'].count()"
   ]
  },
  {
   "cell_type": "markdown",
   "id": "b49f19b5",
   "metadata": {},
   "source": [
    "Действительно, по тт 1188 общее количество наблюдений меньше 10, а по тт 1199 проведение дальнейшего анализа не имеет смысла, тк отсутсвуют данные по контрольной группе. По остальным точкам можно провести t-тест и тест Манна-Уитни для определения различий в тестовых и контрольных группах."
   ]
  },
  {
   "cell_type": "markdown",
   "id": "72eb0107",
   "metadata": {},
   "source": [
    "Удалим тт 1199 из списка торговых точек и проведем t-тест и тест Манна-Уитни на оставшихся:"
   ]
  },
  {
   "cell_type": "code",
   "execution_count": 47,
   "id": "e1c4e903",
   "metadata": {},
   "outputs": [],
   "source": [
    "tt.remove(1199)"
   ]
  },
  {
   "cell_type": "code",
   "execution_count": 48,
   "id": "f18fe425",
   "metadata": {},
   "outputs": [],
   "source": [
    "def tt_test (x):\n",
    "    for i in tt:\n",
    "        df_i = x[x['id_point']==i]\n",
    "        r1_i = df_i[df_i['id_group']=='test']['sum_pay']\n",
    "        r2_i = df_i[df_i['id_group']=='control']['sum_pay']\n",
    "        print('\\n'+'ТТ '+str(i))\n",
    "        test_calc(r1_i, r2_i)"
   ]
  },
  {
   "cell_type": "code",
   "execution_count": 49,
   "id": "e4e8187a",
   "metadata": {},
   "outputs": [
    {
     "name": "stdout",
     "output_type": "stream",
     "text": [
      "\n",
      "ТТ 1186.0\n",
      "Нулевая гипотеза принимается\n",
      "t-критерий =  -1.1180842901798607\n",
      "p-value =  0.26791503165699326\n",
      "\n",
      "ТТ 1188.0\n",
      "Нулевая гипотеза принимается\n",
      "t-критерий =  -0.6442275987087498\n",
      "p-value =  0.5374567675930649\n",
      "\n",
      "ТТ 1178.0\n",
      "Нулевая гипотеза принимается\n",
      "t-критерий =  -1.5784492225854414\n",
      "p-value =  0.11452918678531801\n",
      "\n",
      "ТТ 1179.0\n",
      "Нулевая гипотеза принимается\n",
      "t-критерий =  1.1235375532337082\n",
      "p-value =  0.2612880047982933\n",
      "\n",
      "ТТ 1182.0\n",
      "Нулевая гипотеза не принимается\n",
      "t-критерий =  5.520250582420917\n",
      "p-value =  3.8472165942044545e-08\n"
     ]
    }
   ],
   "source": [
    "tt_test (df_clear)"
   ]
  },
  {
   "cell_type": "code",
   "execution_count": 50,
   "id": "4fa1907c",
   "metadata": {},
   "outputs": [],
   "source": [
    "def tt_mann_whitney (x):\n",
    "    for i in tt:\n",
    "        df_i = x[x['id_point']==i]\n",
    "        r1_i = df_i[df_i['id_group']=='test']['sum_pay']\n",
    "        r2_i = df_i[df_i['id_group']=='control']['sum_pay']\n",
    "        print('\\n'+'ТТ '+str(i))\n",
    "        mann_whitney_func (r1_i, r2_i)"
   ]
  },
  {
   "cell_type": "code",
   "execution_count": 51,
   "id": "1b3e0331",
   "metadata": {},
   "outputs": [
    {
     "name": "stdout",
     "output_type": "stream",
     "text": [
      "\n",
      "ТТ 1186.0\n",
      "Распределения равны.\n",
      "\n",
      "ТТ 1188.0\n",
      "Распределения равны.\n",
      "\n",
      "ТТ 1178.0\n",
      "Распределения не равны.\n",
      "\n",
      "ТТ 1179.0\n",
      "Распределения равны.\n",
      "\n",
      "ТТ 1182.0\n",
      "Распределения не равны.\n"
     ]
    }
   ],
   "source": [
    "tt_mann_whitney (df_clear)"
   ]
  },
  {
   "cell_type": "markdown",
   "id": "78eabc8b",
   "metadata": {},
   "source": [
    "Также мы видим, что в двух торговых точках - 1186 и 1188 - количество наблюдений очень маленькое по сравнению с остальными. Для оценки достаточности такого количества наблюдений вычислим необходимое количество наблюдений для теста с мощность 80% на основе данных по торговой точке 1182 (т.к. именнов этой тт мы видим отличия контрольной и тестовой группы по двум тестам)."
   ]
  },
  {
   "cell_type": "code",
   "execution_count": 52,
   "id": "8a3f3495",
   "metadata": {},
   "outputs": [],
   "source": [
    "import statsmodels.stats.power as smp"
   ]
  },
  {
   "cell_type": "code",
   "execution_count": 53,
   "id": "48a46040",
   "metadata": {},
   "outputs": [],
   "source": [
    "chipower = smp.GofChisquarePower()"
   ]
  },
  {
   "cell_type": "code",
   "execution_count": 54,
   "id": "71503466",
   "metadata": {},
   "outputs": [],
   "source": [
    "df1182 =  df_clear.loc[df_clear['id_point'] == 1182]"
   ]
  },
  {
   "cell_type": "markdown",
   "id": "54fa0b53",
   "metadata": {},
   "source": [
    "Для вычисления количества наблюдений в качестве effect size взят показатель Коэна. Делаем предварительные рассчеты:"
   ]
  },
  {
   "cell_type": "markdown",
   "id": "8d4429e2",
   "metadata": {},
   "source": [
    "Вычисляем средние:"
   ]
  },
  {
   "cell_type": "code",
   "execution_count": 55,
   "id": "accd1b79",
   "metadata": {},
   "outputs": [
    {
     "data": {
      "text/plain": [
       "(4028.936, 4726.797592997812)"
      ]
     },
     "execution_count": 55,
     "metadata": {},
     "output_type": "execute_result"
    }
   ],
   "source": [
    "mc = df1182[df1182['id_group']=='control']['sum_pay'].mean()\n",
    "mt = df1182[df1182['id_group']=='test']['sum_pay'].mean()\n",
    "mc, mt"
   ]
  },
  {
   "cell_type": "markdown",
   "id": "c6b5eaa6",
   "metadata": {},
   "source": [
    "Стандартные отклонения:"
   ]
  },
  {
   "cell_type": "code",
   "execution_count": 56,
   "id": "33624380",
   "metadata": {},
   "outputs": [
    {
     "data": {
      "text/plain": [
       "(2837.242393646393, 2678.470767286807)"
      ]
     },
     "execution_count": 56,
     "metadata": {},
     "output_type": "execute_result"
    }
   ],
   "source": [
    "sc = df1182[df1182['id_group']=='control']['sum_pay'].std()\n",
    "st = df1182[df1182['id_group']=='test']['sum_pay'].std()\n",
    "sc, st"
   ]
  },
  {
   "cell_type": "markdown",
   "id": "599788b1",
   "metadata": {},
   "source": [
    "И еще раз, вынеся в отдельные переменные, вычислим количество наблюдений:"
   ]
  },
  {
   "cell_type": "code",
   "execution_count": 57,
   "id": "a31b7834",
   "metadata": {},
   "outputs": [
    {
     "data": {
      "text/plain": [
       "(1000, 914)"
      ]
     },
     "execution_count": 57,
     "metadata": {},
     "output_type": "execute_result"
    }
   ],
   "source": [
    "nc = df1182[df1182['id_group']=='control']['sum_pay'].count()\n",
    "nt = df1182[df1182['id_group']=='test']['sum_pay'].count()\n",
    "nc, nt"
   ]
  },
  {
   "cell_type": "markdown",
   "id": "97c456ea",
   "metadata": {},
   "source": [
    "Теперь вычислим объединенное стандартное отклонение:"
   ]
  },
  {
   "cell_type": "code",
   "execution_count": 58,
   "id": "e6be7609",
   "metadata": {},
   "outputs": [
    {
     "data": {
      "text/plain": [
       "2762.565833996468"
      ]
     },
     "execution_count": 58,
     "metadata": {},
     "output_type": "execute_result"
    }
   ],
   "source": [
    "s_pooled = np.sqrt(((nc-1)*(sc**2) + (nt-1)*(st**2))/(nc+nt-2))\n",
    "s_pooled"
   ]
  },
  {
   "cell_type": "markdown",
   "id": "272889a3",
   "metadata": {},
   "source": [
    "И на основе него показатель Коэна:"
   ]
  },
  {
   "cell_type": "code",
   "execution_count": 59,
   "id": "d807de4a",
   "metadata": {},
   "outputs": [
    {
     "data": {
      "text/plain": [
       "0.2526135610633575"
      ]
     },
     "execution_count": 59,
     "metadata": {},
     "output_type": "execute_result"
    }
   ],
   "source": [
    "d = (mt-mc)/s_pooled\n",
    "d"
   ]
  },
  {
   "cell_type": "markdown",
   "id": "cf2f218a",
   "metadata": {},
   "source": [
    "Размер эффекта:"
   ]
  },
  {
   "cell_type": "code",
   "execution_count": 60,
   "id": "980ddbef",
   "metadata": {},
   "outputs": [
    {
     "data": {
      "text/plain": [
       "0.12531116592658673"
      ]
     },
     "execution_count": 60,
     "metadata": {},
     "output_type": "execute_result"
    }
   ],
   "source": [
    "effect_size = d/np.sqrt(d**2+4)\n",
    "effect_size"
   ]
  },
  {
   "cell_type": "markdown",
   "id": "01de0f09",
   "metadata": {},
   "source": [
    "Теперь, имея все вводные, вычислим необходимое количество наблюдений:"
   ]
  },
  {
   "cell_type": "code",
   "execution_count": 61,
   "id": "cb63efbc",
   "metadata": {},
   "outputs": [
    {
     "data": {
      "text/plain": [
       "499.8354669831771"
      ]
     },
     "execution_count": 61,
     "metadata": {},
     "output_type": "execute_result"
    }
   ],
   "source": [
    "chipower.solve_power(effect_size, nobs = None, alpha = 0.05, power = 0.8)"
   ]
  },
  {
   "cell_type": "markdown",
   "id": "c04a8e0e",
   "metadata": {},
   "source": [
    "Итак, для того, чтобы в наблюдениях получить результат не менее заметный, чем в тогровой точке 1182, необходимо брать не менее 500 наблюдений."
   ]
  },
  {
   "cell_type": "markdown",
   "id": "316095c0",
   "metadata": {},
   "source": [
    "В тт 1186 и 1188 количество наблюдений у нас 63 и 10 соответственно. Такое количество наблюдений слишком мало, из дальнейшего анализа эти тт можно исключить."
   ]
  },
  {
   "cell_type": "markdown",
   "id": "fc807aae",
   "metadata": {},
   "source": [
    "Итого для анализа остаются торговые точки 1178, 1179, 1182"
   ]
  },
  {
   "cell_type": "code",
   "execution_count": 62,
   "id": "b6212a98",
   "metadata": {},
   "outputs": [],
   "source": [
    "df_clear_tt = df_clear.loc[df_clear.id_point.isin ((1178, 1179, 1182))]"
   ]
  },
  {
   "cell_type": "code",
   "execution_count": 63,
   "id": "77309c3e",
   "metadata": {},
   "outputs": [
    {
     "data": {
      "text/plain": [
       "{1178.0, 1179.0, 1182.0}"
      ]
     },
     "execution_count": 63,
     "metadata": {},
     "output_type": "execute_result"
    }
   ],
   "source": [
    "set(df_clear_tt['id_point'])"
   ]
  },
  {
   "cell_type": "markdown",
   "id": "c64097b5",
   "metadata": {},
   "source": [
    "### Выводы:"
   ]
  },
  {
   "cell_type": "markdown",
   "id": "4a81cd18",
   "metadata": {},
   "source": [
    "ТТ 1178 - средние значения в контрольной и тестовой группах не отличаются, но распределения по сумме платежей не равны; "
   ]
  },
  {
   "cell_type": "markdown",
   "id": "e886a1f1",
   "metadata": {},
   "source": [
    "ТТ 1179 - отличий в тестовой и контрольной группе нет;"
   ]
  },
  {
   "cell_type": "markdown",
   "id": "b255c303",
   "metadata": {},
   "source": [
    "ТТ 1182 - в тестовой и контрольной группе есть статистически значимые различия как по среднему, так и по распределению сумм платежей."
   ]
  },
  {
   "cell_type": "markdown",
   "id": "1a9fe485",
   "metadata": {},
   "source": [
    "_________________"
   ]
  },
  {
   "cell_type": "markdown",
   "id": "03f6cdd6",
   "metadata": {},
   "source": [
    "## Часть 3. Сегментация и презентация"
   ]
  },
  {
   "cell_type": "markdown",
   "id": "f01d6741",
   "metadata": {},
   "source": [
    "### Задача 1\n",
    "\n",
    "**Сегментация по длительности регистрации**\n",
    "\n",
    "1. Рассмотрите два вида корреляции между выплаченной суммой и длительностью регистрации (корреляция Спирмена и корреляция Пирсона).\n",
    "2. Постройте *scatterplot* (из библиотеки *seaborn*) для визуализации связи между переменными\n",
    "3. Как полученные результаты повлияют на ваши бизнес-рекомендации?\n",
    "\n",
    "### Задача 2\n",
    "\n",
    "**Презентация и сторителлинг**\n",
    "\n",
    "1. Оформите презентацию (5-8 слайдов), в которой вы излагаете рекомендации для вышестоящего руководства. Постарайтесь избегать в презентации специфических терминов (таких как корреляция, тест Манна-Уитни т.д.)"
   ]
  },
  {
   "cell_type": "markdown",
   "id": "53651ed5",
   "metadata": {},
   "source": [
    "Рассчитаем корреляцию Пирсона и Спирмена, чтобы определить существует ли зависимость между суммой оплат и длительностью регистрации в программе лояльности:"
   ]
  },
  {
   "cell_type": "code",
   "execution_count": 64,
   "id": "48dabc42",
   "metadata": {},
   "outputs": [
    {
     "data": {
      "text/plain": [
       "(0.6420992132057955, 0.0)"
      ]
     },
     "execution_count": 64,
     "metadata": {},
     "output_type": "execute_result"
    }
   ],
   "source": [
    "spst.stats.pearsonr(df_clear_tt['sum_pay'], df_clear_tt['months_reg'])"
   ]
  },
  {
   "cell_type": "code",
   "execution_count": 65,
   "id": "5c6123b4",
   "metadata": {},
   "outputs": [
    {
     "data": {
      "text/plain": [
       "SpearmanrResult(correlation=0.6682112933804218, pvalue=0.0)"
      ]
     },
     "execution_count": 65,
     "metadata": {},
     "output_type": "execute_result"
    }
   ],
   "source": [
    "spst.stats.spearmanr(df_clear_tt['sum_pay'], df_clear_tt['months_reg'])"
   ]
  },
  {
   "cell_type": "markdown",
   "id": "b1af419e",
   "metadata": {},
   "source": [
    "Вычисление коэффициентов корреляции Пирсона и Спирмена дают практически одинаковый результат: корреляция между длительностью регистрации и оплаченной суммой корреляция положительная средней силы (0,3 < corr < 0.7)."
   ]
  },
  {
   "cell_type": "markdown",
   "id": "bc66e6a6",
   "metadata": {},
   "source": [
    "Для наглядности отобразим распределение платежей в зависимости от месяцев регистрации на графике:"
   ]
  },
  {
   "cell_type": "code",
   "execution_count": 104,
   "id": "775bb3c0",
   "metadata": {},
   "outputs": [
    {
     "data": {
      "text/plain": [
       "<AxesSubplot:xlabel='months_reg', ylabel='sum_pay'>"
      ]
     },
     "execution_count": 104,
     "metadata": {},
     "output_type": "execute_result"
    },
    {
     "data": {
      "image/png": "[encoded data removed]",
      "text/plain": [
       "<Figure size 432x288 with 1 Axes>"
      ]
     },
     "metadata": {
      "needs_background": "light"
     },
     "output_type": "display_data"
    }
   ],
   "source": [
    "x = df_clear_tt['months_reg']\n",
    "y = df_clear_tt['sum_pay']\n",
    "sns.scatterplot(x, y, color = 'teal')"
   ]
  },
  {
   "cell_type": "markdown",
   "id": "307ff10e",
   "metadata": {},
   "source": [
    "На первый взгляд, никаких заметных тенденций в этом распределении нет, кроме того, что люди, зарегистрированные менее 5 месяцев, менее склонны к покупкам больше 8000. Но если уменьшить плотность отображения точек на графике, то результат будет несколько иной:"
   ]
  },
  {
   "cell_type": "code",
   "execution_count": 105,
   "id": "7791b09e",
   "metadata": {},
   "outputs": [
    {
     "data": {
      "text/plain": [
       "months_reg\n",
       "0      779\n",
       "1      765\n",
       "2     1292\n",
       "3     1600\n",
       "4     1000\n",
       "5     1117\n",
       "6     1175\n",
       "7      604\n",
       "8      629\n",
       "9      291\n",
       "10     303\n",
       "11     320\n",
       "12     207\n",
       "Name: id_client, dtype: int64"
      ]
     },
     "execution_count": 105,
     "metadata": {},
     "output_type": "execute_result"
    }
   ],
   "source": [
    "df_clear_tt.groupby('months_reg')['id_client'].count()"
   ]
  },
  {
   "cell_type": "code",
   "execution_count": null,
   "id": "3602b8e5",
   "metadata": {},
   "outputs": [],
   "source": []
  },
  {
   "cell_type": "code",
   "execution_count": null,
   "id": "eee25e38",
   "metadata": {},
   "outputs": [],
   "source": []
  },
  {
   "cell_type": "code",
   "execution_count": 119,
   "id": "6e0cb1d4",
   "metadata": {},
   "outputs": [
    {
     "data": {
      "image/png": "[encoded data removed]",
      "text/plain": [
       "<Figure size 504x504 with 1 Axes>"
      ]
     },
     "metadata": {
      "needs_background": "light"
     },
     "output_type": "display_data"
    }
   ],
   "source": [
    "x = df_clear_tt['months_reg']\n",
    "y = df_clear_tt['sum_pay']\n",
    "plt.figure(figsize=(7,7))\n",
    "ax = sns.scatterplot(x, y, color = 'teal', alpha = 0.04)\n",
    "ax.set(title='Распределение сумм оплат по месяцам регистрации')\n",
    "ax.set_ylabel(ylabel = 'Сумма платежа')\n",
    "ax.set_xlabel ('Месяц регистрации')\n",
    "plt.show()"
   ]
  },
  {
   "cell_type": "markdown",
   "id": "6c6e720f",
   "metadata": {},
   "source": [
    "На этом графике уже видно, что корреляция действительно существует, но после достижения длительности регистрации в 7 месяцев суммы оплат не увеличиваются вместе с увеличением срока регистрации, основная часть оплат остается на уровне 6000-8000."
   ]
  },
  {
   "cell_type": "markdown",
   "id": "d0c1183e",
   "metadata": {},
   "source": [
    "Для сравнения результатов А/Б-теста в тестовой и контрольной группе сделаем сегментацию покупателей по длительности регистрации и применим все ранее использованные методы анализа - распределение сумм платежей, t-критерий и критерий Манна-Уитни. "
   ]
  },
  {
   "cell_type": "markdown",
   "id": "1f54c7f7",
   "metadata": {},
   "source": [
    "Итак, у нас существуют следующие сегменты по длительности регистрации:"
   ]
  },
  {
   "cell_type": "code",
   "execution_count": 69,
   "id": "6b204ec2",
   "metadata": {},
   "outputs": [
    {
     "data": {
      "text/plain": [
       "{0, 1, 2, 3, 4, 5, 6, 7, 8, 9, 10, 11, 12}"
      ]
     },
     "execution_count": 69,
     "metadata": {},
     "output_type": "execute_result"
    }
   ],
   "source": [
    "mm = set(df_clear_tt['months_reg'])\n",
    "mm"
   ]
  },
  {
   "cell_type": "markdown",
   "id": "4d5c491c",
   "metadata": {},
   "source": [
    "Посмотрим на распределение платежей по тестовой и контрольной группе в каждом сегменте:"
   ]
  },
  {
   "cell_type": "code",
   "execution_count": 70,
   "id": "905cc07e",
   "metadata": {},
   "outputs": [],
   "source": [
    "def mm_analysis (y):\n",
    "    for m in mm:\n",
    "        x = y[y['months_reg']==m]\n",
    "        graph_title = 'График распределения платежей '+str(m)+' месяца регистрации'\n",
    "        show_hist(x, graph_title)"
   ]
  },
  {
   "cell_type": "code",
   "execution_count": 71,
   "id": "a61e3343",
   "metadata": {},
   "outputs": [
    {
     "data": {
      "image/png": "[encoded data removed]",
      "text/plain": [
       "<Figure size 576x288 with 1 Axes>"
      ]
     },
     "metadata": {
      "needs_background": "light"
     },
     "output_type": "display_data"
    },
    {
     "data": {
      "image/png": "[encoded data removed]",
      "text/plain": [
       "<Figure size 576x288 with 1 Axes>"
      ]
     },
     "metadata": {
      "needs_background": "light"
     },
     "output_type": "display_data"
    },
    {
     "data": {
      "image/png": "[encoded data removed]",
      "text/plain": [
       "<Figure size 576x288 with 1 Axes>"
      ]
     },
     "metadata": {
      "needs_background": "light"
     },
     "output_type": "display_data"
    },
    {
     "data": {
      "image/png": "[encoded data removed]",
      "text/plain": [
       "<Figure size 576x288 with 1 Axes>"
      ]
     },
     "metadata": {
      "needs_background": "light"
     },
     "output_type": "display_data"
    },
    {
     "data": {
      "image/png": "[encoded data removed]",
      "text/plain": [
       "<Figure size 576x288 with 1 Axes>"
      ]
     },
     "metadata": {
      "needs_background": "light"
     },
     "output_type": "display_data"
    },
    {
     "data": {
      "image/png": "[encoded data removed]",
      "text/plain": [
       "<Figure size 576x288 with 1 Axes>"
      ]
     },
     "metadata": {
      "needs_background": "light"
     },
     "output_type": "display_data"
    },
    {
     "data": {
      "image/png": "[encoded data removed]",
      "text/plain": [
       "<Figure size 576x288 with 1 Axes>"
      ]
     },
     "metadata": {
      "needs_background": "light"
     },
     "output_type": "display_data"
    },
    {
     "data": {
      "image/png": "[encoded data removed]",
      "text/plain": [
       "<Figure size 576x288 with 1 Axes>"
      ]
     },
     "metadata": {
      "needs_background": "light"
     },
     "output_type": "display_data"
    },
    {
     "data": {
      "image/png": "[encoded data removed]",
      "text/plain": [
       "<Figure size 576x288 with 1 Axes>"
      ]
     },
     "metadata": {
      "needs_background": "light"
     },
     "output_type": "display_data"
    },
    {
     "data": {
      "image/png": "[encoded data removed]",
      "text/plain": [
       "<Figure size 576x288 with 1 Axes>"
      ]
     },
     "metadata": {
      "needs_background": "light"
     },
     "output_type": "display_data"
    },
    {
     "data": {
      "image/png": "[encoded data removed]",
      "text/plain": [
       "<Figure size 576x288 with 1 Axes>"
      ]
     },
     "metadata": {
      "needs_background": "light"
     },
     "output_type": "display_data"
    },
    {
     "data": {
      "image/png": "[encoded data removed]",
      "text/plain": [
       "<Figure size 576x288 with 1 Axes>"
      ]
     },
     "metadata": {
      "needs_background": "light"
     },
     "output_type": "display_data"
    },
    {
     "data": {
      "image/png": "[encoded data removed]",
      "text/plain": [
       "<Figure size 576x288 with 1 Axes>"
      ]
     },
     "metadata": {
      "needs_background": "light"
     },
     "output_type": "display_data"
    }
   ],
   "source": [
    "mm_analysis (df_clear_tt)"
   ]
  },
  {
   "cell_type": "markdown",
   "id": "34d366d3",
   "metadata": {},
   "source": [
    "На графиках видно, что с увеличением срока регистрации суммы оплат смещаются в бОльшую сторону."
   ]
  },
  {
   "cell_type": "markdown",
   "id": "f724175e",
   "metadata": {},
   "source": [
    "Посмотрим на t-критерий и критерий Манна-Уитни, чтобы определить, насколько проведение акции повлияло на покупки в сегментах:"
   ]
  },
  {
   "cell_type": "code",
   "execution_count": 72,
   "id": "6d95c792",
   "metadata": {},
   "outputs": [],
   "source": [
    "def mm_test (x):\n",
    "    for m in mm:\n",
    "        df_i = x[x['months_reg']==m]\n",
    "        r1_i = df_i[df_i['id_group']=='test']['sum_pay']\n",
    "        r2_i = df_i[df_i['id_group']=='control']['sum_pay']\n",
    "        print('\\n'+str(m) +' месяц регистрации')\n",
    "        test_calc(r1_i, r2_i)"
   ]
  },
  {
   "cell_type": "code",
   "execution_count": 73,
   "id": "cd80d7d7",
   "metadata": {},
   "outputs": [
    {
     "name": "stdout",
     "output_type": "stream",
     "text": [
      "\n",
      "0 месяц регистрации\n",
      "Нулевая гипотеза принимается\n",
      "t-критерий =  -0.21285137037071858\n",
      "p-value =  0.8314987240598354\n",
      "\n",
      "1 месяц регистрации\n",
      "Нулевая гипотеза принимается\n",
      "t-критерий =  -0.03206752298200119\n",
      "p-value =  0.9744265893336539\n",
      "\n",
      "2 месяц регистрации\n",
      "Нулевая гипотеза не принимается\n",
      "t-критерий =  -2.8964530760587897\n",
      "p-value =  0.00383773433717796\n",
      "\n",
      "3 месяц регистрации\n",
      "Нулевая гипотеза не принимается\n",
      "t-критерий =  -2.5565035644510274\n",
      "p-value =  0.010664750971566973\n",
      "\n",
      "4 месяц регистрации\n",
      "Нулевая гипотеза принимается\n",
      "t-критерий =  -0.634316362076552\n",
      "p-value =  0.5260197476600286\n",
      "\n",
      "5 месяц регистрации\n",
      "Нулевая гипотеза не принимается\n",
      "t-критерий =  3.443529351524711\n",
      "p-value =  0.0005954971186347937\n",
      "\n",
      "6 месяц регистрации\n",
      "Нулевая гипотеза не принимается\n",
      "t-критерий =  2.2999099724111915\n",
      "p-value =  0.021628237536327057\n",
      "\n",
      "7 месяц регистрации\n",
      "Нулевая гипотеза не принимается\n",
      "t-критерий =  3.5502586208582443\n",
      "p-value =  0.0004149016677145306\n",
      "\n",
      "8 месяц регистрации\n",
      "Нулевая гипотеза не принимается\n",
      "t-критерий =  3.8544109797567554\n",
      "p-value =  0.0001279649034131698\n",
      "\n",
      "9 месяц регистрации\n",
      "Нулевая гипотеза принимается\n",
      "t-критерий =  0.713833698066691\n",
      "p-value =  0.47590610956371515\n",
      "\n",
      "10 месяц регистрации\n",
      "Нулевая гипотеза принимается\n",
      "t-критерий =  0.4372384256729078\n",
      "p-value =  0.6622519776821717\n",
      "\n",
      "11 месяц регистрации\n",
      "Нулевая гипотеза не принимается\n",
      "t-критерий =  2.600721164602839\n",
      "p-value =  0.009737344405838814\n",
      "\n",
      "12 месяц регистрации\n",
      "Нулевая гипотеза принимается\n",
      "t-критерий =  1.1664156594938668\n",
      "p-value =  0.24480157183591034\n"
     ]
    }
   ],
   "source": [
    "mm_test (df_clear_tt)"
   ]
  },
  {
   "cell_type": "code",
   "execution_count": 74,
   "id": "9a91c02c",
   "metadata": {},
   "outputs": [],
   "source": [
    "def mm_mann_whitney (x):\n",
    "    for m in mm:\n",
    "        df_i = x[x['months_reg']==m]\n",
    "        r1_i = df_i[df_i['id_group']=='test']['sum_pay']\n",
    "        r2_i = df_i[df_i['id_group']=='control']['sum_pay']\n",
    "        print('\\n'+str(m) +' месяц регистрации')\n",
    "        mann_whitney_func (r1_i, r2_i)"
   ]
  },
  {
   "cell_type": "code",
   "execution_count": 75,
   "id": "470ab686",
   "metadata": {},
   "outputs": [
    {
     "name": "stdout",
     "output_type": "stream",
     "text": [
      "\n",
      "0 месяц регистрации\n",
      "Распределения равны.\n",
      "\n",
      "1 месяц регистрации\n",
      "Распределения равны.\n",
      "\n",
      "2 месяц регистрации\n",
      "Распределения не равны.\n",
      "\n",
      "3 месяц регистрации\n",
      "Распределения не равны.\n",
      "\n",
      "4 месяц регистрации\n",
      "Распределения равны.\n",
      "\n",
      "5 месяц регистрации\n",
      "Распределения не равны.\n",
      "\n",
      "6 месяц регистрации\n",
      "Распределения равны.\n",
      "\n",
      "7 месяц регистрации\n",
      "Распределения не равны.\n",
      "\n",
      "8 месяц регистрации\n",
      "Распределения не равны.\n",
      "\n",
      "9 месяц регистрации\n",
      "Распределения равны.\n",
      "\n",
      "10 месяц регистрации\n",
      "Распределения равны.\n",
      "\n",
      "11 месяц регистрации\n",
      "Распределения не равны.\n",
      "\n",
      "12 месяц регистрации\n",
      "Распределения равны.\n"
     ]
    }
   ],
   "source": [
    "mm_mann_whitney (df_clear_tt)"
   ]
  },
  {
   "cell_type": "markdown",
   "id": "df552bfe",
   "metadata": {},
   "source": [
    "При сегментации по месяцам получили следующие результаты для контрольной и тестовой групп:"
   ]
  },
  {
   "cell_type": "markdown",
   "id": "1875b32b",
   "metadata": {},
   "source": [
    "0 месяц - нулевая гипотеза принимается, распределения равны\n",
    "\n",
    "1 месяц - нулевая гипотеза принимается, распределения равны.\n",
    "\n",
    "2 месяц - нулевая гипотеза не принимается (t-критерий =  -2.9, p-value =  0.0038), распределения не равны.\n",
    "\n",
    "3 месяц - нулевая гипотеза не принимается (t-критерий =  -2.6, p-value =  0.01), распределения не равны.\n",
    "\n",
    "4 месяц - нулевая гипотеза принимается, распределения равны.\n",
    "\n",
    "5 месяц - нулевая гипотеза не принимается (t-критерий =  3.4, p-value =  0.0006), распределения не равны.\n",
    "\n",
    "6 месяц - нулевая гипотеза не принимается (t-критерий =  2.3, p-value =  0.02), распределения равны.\n",
    "\n",
    "7 месяц - нулевая гипотеза не принимается (t-критерий =  3.5, p-value =  0.0004), распределения не равны.\n",
    "\n",
    "8 месяц - нулевая гипотеза не принимается (t-критерий =  3.8, p-value =  0.0001), распределения не равны.\n",
    "\n",
    "9 месяц - нулевая гипотеза принимается, распределения равны.\n",
    "\n",
    "10 месяц - нулевая гипотеза принимается, распределения равны.\n",
    "\n",
    "11 месяц - нулевая гипотеза не принимается (t-критерий =  2.6, p-value =  0.00097), распределения не равны.\n",
    "\n",
    "12 месяц - нулевая гипотеза принимается, распределения равны."
   ]
  },
  {
   "cell_type": "code",
   "execution_count": 90,
   "id": "297a7acb",
   "metadata": {},
   "outputs": [
    {
     "data": {
      "text/plain": [
       "months_reg\n",
       "0      779\n",
       "1      765\n",
       "2     1292\n",
       "3     1600\n",
       "4     1000\n",
       "5     1117\n",
       "6     1175\n",
       "7      604\n",
       "8      629\n",
       "9      291\n",
       "10     303\n",
       "11     320\n",
       "12     207\n",
       "Name: id_client, dtype: int64"
      ]
     },
     "execution_count": 90,
     "metadata": {},
     "output_type": "execute_result"
    }
   ],
   "source": [
    "df_clear_tt.groupby(['months_reg'])['id_client'].count()"
   ]
  },
  {
   "cell_type": "code",
   "execution_count": 88,
   "id": "c6e37f62",
   "metadata": {},
   "outputs": [],
   "source": [
    "df11 = df_clear_tt.loc[df_clear_tt['months_reg'] == 11]"
   ]
  },
  {
   "cell_type": "code",
   "execution_count": 89,
   "id": "14c78ef5",
   "metadata": {},
   "outputs": [
    {
     "data": {
      "text/plain": [
       "377.7359903265607"
      ]
     },
     "execution_count": 89,
     "metadata": {},
     "output_type": "execute_result"
    }
   ],
   "source": [
    "mmc = df11[df11['id_group']=='control']['sum_pay'].mean()\n",
    "mmt = df11[df11['id_group']=='test']['sum_pay'].mean()\n",
    "msc = df11[df11['id_group']=='control']['sum_pay'].std()\n",
    "mst = df11[df11['id_group']=='test']['sum_pay'].std()\n",
    "mnc = df11[df11['id_group']=='control']['sum_pay'].count()\n",
    "mnt = df11[df11['id_group']=='test']['sum_pay'].count()\n",
    "s_pooled_m = np.sqrt(((mnc-1)*(msc**2) + (mnt-1)*(mst**2))/(mnc+mnt-2))\n",
    "dm = (mmt-mmc)/s_pooled_m\n",
    "effect_size_m = dm/np.sqrt(dm**2+4)\n",
    "chipower.solve_power(effect_size_m, nobs = None, alpha = 0.05, power = 0.8)"
   ]
  },
  {
   "cell_type": "markdown",
   "id": "3a848d8e",
   "metadata": {},
   "source": [
    "Итак, мы видим, что проведение теста оказало влияние не на все сегменты, а только на часть покупателей с длительностью регистрации от 2 до 8 месяцев. Причем в группах 2 и 3 месяца влияние оказалось отрицательным, в тестовой группе средняя сумма покупок уменьшилась, а положительное - в сегментах 5-8 месяц."
   ]
  },
  {
   "cell_type": "markdown",
   "id": "a4e425b9",
   "metadata": {},
   "source": [
    "Для подтверждения гипотезы о разном влиянии акции на покупателей построим распределение сегментов по сроку регистрации в кажой торговой точке в процентном соотношении.\n",
    "\n",
    "Сначала сгруппируем покупателей по торговым точкам и сегментам регистрации:"
   ]
  },
  {
   "cell_type": "code",
   "execution_count": 120,
   "id": "de54aeb2",
   "metadata": {},
   "outputs": [
    {
     "data": {
      "text/html": [
       "<div>\n",
       "<style scoped>\n",
       "    .dataframe tbody tr th:only-of-type {\n",
       "        vertical-align: middle;\n",
       "    }\n",
       "\n",
       "    .dataframe tbody tr th {\n",
       "        vertical-align: top;\n",
       "    }\n",
       "\n",
       "    .dataframe thead th {\n",
       "        text-align: right;\n",
       "    }\n",
       "</style>\n",
       "<table border=\"1\" class=\"dataframe\">\n",
       "  <thead>\n",
       "    <tr style=\"text-align: right;\">\n",
       "      <th></th>\n",
       "      <th>id_point</th>\n",
       "      <th>months_reg</th>\n",
       "      <th>id_client</th>\n",
       "    </tr>\n",
       "  </thead>\n",
       "  <tbody>\n",
       "    <tr>\n",
       "      <th>0</th>\n",
       "      <td>1178.0</td>\n",
       "      <td>0</td>\n",
       "      <td>450</td>\n",
       "    </tr>\n",
       "    <tr>\n",
       "      <th>1</th>\n",
       "      <td>1178.0</td>\n",
       "      <td>1</td>\n",
       "      <td>404</td>\n",
       "    </tr>\n",
       "    <tr>\n",
       "      <th>2</th>\n",
       "      <td>1178.0</td>\n",
       "      <td>2</td>\n",
       "      <td>661</td>\n",
       "    </tr>\n",
       "    <tr>\n",
       "      <th>3</th>\n",
       "      <td>1178.0</td>\n",
       "      <td>3</td>\n",
       "      <td>795</td>\n",
       "    </tr>\n",
       "    <tr>\n",
       "      <th>4</th>\n",
       "      <td>1178.0</td>\n",
       "      <td>4</td>\n",
       "      <td>449</td>\n",
       "    </tr>\n",
       "    <tr>\n",
       "      <th>5</th>\n",
       "      <td>1178.0</td>\n",
       "      <td>5</td>\n",
       "      <td>480</td>\n",
       "    </tr>\n",
       "    <tr>\n",
       "      <th>6</th>\n",
       "      <td>1178.0</td>\n",
       "      <td>6</td>\n",
       "      <td>524</td>\n",
       "    </tr>\n",
       "    <tr>\n",
       "      <th>13</th>\n",
       "      <td>1179.0</td>\n",
       "      <td>0</td>\n",
       "      <td>240</td>\n",
       "    </tr>\n",
       "    <tr>\n",
       "      <th>14</th>\n",
       "      <td>1179.0</td>\n",
       "      <td>1</td>\n",
       "      <td>278</td>\n",
       "    </tr>\n",
       "    <tr>\n",
       "      <th>15</th>\n",
       "      <td>1179.0</td>\n",
       "      <td>2</td>\n",
       "      <td>440</td>\n",
       "    </tr>\n",
       "    <tr>\n",
       "      <th>16</th>\n",
       "      <td>1179.0</td>\n",
       "      <td>3</td>\n",
       "      <td>547</td>\n",
       "    </tr>\n",
       "    <tr>\n",
       "      <th>17</th>\n",
       "      <td>1179.0</td>\n",
       "      <td>4</td>\n",
       "      <td>360</td>\n",
       "    </tr>\n",
       "    <tr>\n",
       "      <th>18</th>\n",
       "      <td>1179.0</td>\n",
       "      <td>5</td>\n",
       "      <td>390</td>\n",
       "    </tr>\n",
       "    <tr>\n",
       "      <th>19</th>\n",
       "      <td>1179.0</td>\n",
       "      <td>6</td>\n",
       "      <td>377</td>\n",
       "    </tr>\n",
       "    <tr>\n",
       "      <th>26</th>\n",
       "      <td>1182.0</td>\n",
       "      <td>0</td>\n",
       "      <td>89</td>\n",
       "    </tr>\n",
       "    <tr>\n",
       "      <th>27</th>\n",
       "      <td>1182.0</td>\n",
       "      <td>1</td>\n",
       "      <td>83</td>\n",
       "    </tr>\n",
       "    <tr>\n",
       "      <th>28</th>\n",
       "      <td>1182.0</td>\n",
       "      <td>2</td>\n",
       "      <td>191</td>\n",
       "    </tr>\n",
       "    <tr>\n",
       "      <th>29</th>\n",
       "      <td>1182.0</td>\n",
       "      <td>3</td>\n",
       "      <td>258</td>\n",
       "    </tr>\n",
       "    <tr>\n",
       "      <th>30</th>\n",
       "      <td>1182.0</td>\n",
       "      <td>4</td>\n",
       "      <td>191</td>\n",
       "    </tr>\n",
       "    <tr>\n",
       "      <th>31</th>\n",
       "      <td>1182.0</td>\n",
       "      <td>5</td>\n",
       "      <td>247</td>\n",
       "    </tr>\n",
       "    <tr>\n",
       "      <th>32</th>\n",
       "      <td>1182.0</td>\n",
       "      <td>6</td>\n",
       "      <td>274</td>\n",
       "    </tr>\n",
       "  </tbody>\n",
       "</table>\n",
       "</div>"
      ],
      "text/plain": [
       "    id_point  months_reg  id_client\n",
       "0     1178.0           0        450\n",
       "1     1178.0           1        404\n",
       "2     1178.0           2        661\n",
       "3     1178.0           3        795\n",
       "4     1178.0           4        449\n",
       "5     1178.0           5        480\n",
       "6     1178.0           6        524\n",
       "13    1179.0           0        240\n",
       "14    1179.0           1        278\n",
       "15    1179.0           2        440\n",
       "16    1179.0           3        547\n",
       "17    1179.0           4        360\n",
       "18    1179.0           5        390\n",
       "19    1179.0           6        377\n",
       "26    1182.0           0         89\n",
       "27    1182.0           1         83\n",
       "28    1182.0           2        191\n",
       "29    1182.0           3        258\n",
       "30    1182.0           4        191\n",
       "31    1182.0           5        247\n",
       "32    1182.0           6        274"
      ]
     },
     "execution_count": 120,
     "metadata": {},
     "output_type": "execute_result"
    }
   ],
   "source": [
    "df_tt_mm = df_clear_tt.groupby(['id_point', 'months_reg'])['id_client'].count().reset_index()\n",
    "df_tt_mm = df_tt_mm.loc[df_tt_mm['months_reg']<7]\n",
    "df_tt_mm"
   ]
  },
  {
   "cell_type": "markdown",
   "id": "1f2fbfb9",
   "metadata": {},
   "source": [
    "Теперь считаем общую численность клиентов в торговых точках:"
   ]
  },
  {
   "cell_type": "code",
   "execution_count": 121,
   "id": "7fd5ec06",
   "metadata": {},
   "outputs": [
    {
     "data": {
      "text/html": [
       "<div>\n",
       "<style scoped>\n",
       "    .dataframe tbody tr th:only-of-type {\n",
       "        vertical-align: middle;\n",
       "    }\n",
       "\n",
       "    .dataframe tbody tr th {\n",
       "        vertical-align: top;\n",
       "    }\n",
       "\n",
       "    .dataframe thead th {\n",
       "        text-align: right;\n",
       "    }\n",
       "</style>\n",
       "<table border=\"1\" class=\"dataframe\">\n",
       "  <thead>\n",
       "    <tr style=\"text-align: right;\">\n",
       "      <th></th>\n",
       "      <th>id_point</th>\n",
       "      <th>sum_client</th>\n",
       "    </tr>\n",
       "  </thead>\n",
       "  <tbody>\n",
       "    <tr>\n",
       "      <th>0</th>\n",
       "      <td>1178.0</td>\n",
       "      <td>3763</td>\n",
       "    </tr>\n",
       "    <tr>\n",
       "      <th>1</th>\n",
       "      <td>1179.0</td>\n",
       "      <td>2632</td>\n",
       "    </tr>\n",
       "    <tr>\n",
       "      <th>2</th>\n",
       "      <td>1182.0</td>\n",
       "      <td>1333</td>\n",
       "    </tr>\n",
       "  </tbody>\n",
       "</table>\n",
       "</div>"
      ],
      "text/plain": [
       "   id_point  sum_client\n",
       "0    1178.0        3763\n",
       "1    1179.0        2632\n",
       "2    1182.0        1333"
      ]
     },
     "execution_count": 121,
     "metadata": {},
     "output_type": "execute_result"
    }
   ],
   "source": [
    "df_sum = df_tt_mm.groupby('id_point')['id_client'].sum().reset_index()\n",
    "df_sum.columns = 'id_point', 'sum_client'\n",
    "df_sum"
   ]
  },
  {
   "cell_type": "markdown",
   "id": "6740207b",
   "metadata": {},
   "source": [
    "Вычислим долю в процентах каждого сегмента в общей численности покупателей в каждой торговой точке:"
   ]
  },
  {
   "cell_type": "code",
   "execution_count": 122,
   "id": "ce4bea60",
   "metadata": {},
   "outputs": [
    {
     "data": {
      "text/html": [
       "<div>\n",
       "<style scoped>\n",
       "    .dataframe tbody tr th:only-of-type {\n",
       "        vertical-align: middle;\n",
       "    }\n",
       "\n",
       "    .dataframe tbody tr th {\n",
       "        vertical-align: top;\n",
       "    }\n",
       "\n",
       "    .dataframe thead th {\n",
       "        text-align: right;\n",
       "    }\n",
       "</style>\n",
       "<table border=\"1\" class=\"dataframe\">\n",
       "  <thead>\n",
       "    <tr style=\"text-align: right;\">\n",
       "      <th></th>\n",
       "      <th>id_point</th>\n",
       "      <th>months_reg</th>\n",
       "      <th>id_client</th>\n",
       "      <th>sum_client</th>\n",
       "      <th>m_reg_perc</th>\n",
       "    </tr>\n",
       "  </thead>\n",
       "  <tbody>\n",
       "    <tr>\n",
       "      <th>0</th>\n",
       "      <td>1178.0</td>\n",
       "      <td>0</td>\n",
       "      <td>450</td>\n",
       "      <td>3763</td>\n",
       "      <td>12.0</td>\n",
       "    </tr>\n",
       "    <tr>\n",
       "      <th>1</th>\n",
       "      <td>1178.0</td>\n",
       "      <td>1</td>\n",
       "      <td>404</td>\n",
       "      <td>3763</td>\n",
       "      <td>11.0</td>\n",
       "    </tr>\n",
       "    <tr>\n",
       "      <th>2</th>\n",
       "      <td>1178.0</td>\n",
       "      <td>2</td>\n",
       "      <td>661</td>\n",
       "      <td>3763</td>\n",
       "      <td>18.0</td>\n",
       "    </tr>\n",
       "    <tr>\n",
       "      <th>3</th>\n",
       "      <td>1178.0</td>\n",
       "      <td>3</td>\n",
       "      <td>795</td>\n",
       "      <td>3763</td>\n",
       "      <td>21.0</td>\n",
       "    </tr>\n",
       "    <tr>\n",
       "      <th>4</th>\n",
       "      <td>1178.0</td>\n",
       "      <td>4</td>\n",
       "      <td>449</td>\n",
       "      <td>3763</td>\n",
       "      <td>12.0</td>\n",
       "    </tr>\n",
       "    <tr>\n",
       "      <th>5</th>\n",
       "      <td>1178.0</td>\n",
       "      <td>5</td>\n",
       "      <td>480</td>\n",
       "      <td>3763</td>\n",
       "      <td>13.0</td>\n",
       "    </tr>\n",
       "    <tr>\n",
       "      <th>6</th>\n",
       "      <td>1178.0</td>\n",
       "      <td>6</td>\n",
       "      <td>524</td>\n",
       "      <td>3763</td>\n",
       "      <td>14.0</td>\n",
       "    </tr>\n",
       "    <tr>\n",
       "      <th>7</th>\n",
       "      <td>1179.0</td>\n",
       "      <td>0</td>\n",
       "      <td>240</td>\n",
       "      <td>2632</td>\n",
       "      <td>9.0</td>\n",
       "    </tr>\n",
       "    <tr>\n",
       "      <th>8</th>\n",
       "      <td>1179.0</td>\n",
       "      <td>1</td>\n",
       "      <td>278</td>\n",
       "      <td>2632</td>\n",
       "      <td>11.0</td>\n",
       "    </tr>\n",
       "    <tr>\n",
       "      <th>9</th>\n",
       "      <td>1179.0</td>\n",
       "      <td>2</td>\n",
       "      <td>440</td>\n",
       "      <td>2632</td>\n",
       "      <td>17.0</td>\n",
       "    </tr>\n",
       "  </tbody>\n",
       "</table>\n",
       "</div>"
      ],
      "text/plain": [
       "   id_point  months_reg  id_client  sum_client  m_reg_perc\n",
       "0    1178.0           0        450        3763        12.0\n",
       "1    1178.0           1        404        3763        11.0\n",
       "2    1178.0           2        661        3763        18.0\n",
       "3    1178.0           3        795        3763        21.0\n",
       "4    1178.0           4        449        3763        12.0\n",
       "5    1178.0           5        480        3763        13.0\n",
       "6    1178.0           6        524        3763        14.0\n",
       "7    1179.0           0        240        2632         9.0\n",
       "8    1179.0           1        278        2632        11.0\n",
       "9    1179.0           2        440        2632        17.0"
      ]
     },
     "execution_count": 122,
     "metadata": {},
     "output_type": "execute_result"
    }
   ],
   "source": [
    "df_tt_mm = df_tt_mm.merge(df_sum, on = 'id_point')\n",
    "df_tt_mm['m_reg_perc'] = round(df_tt_mm['id_client']*100/df_tt_mm['sum_client'], 0)\n",
    "df_tt_mm.head(10)"
   ]
  },
  {
   "cell_type": "markdown",
   "id": "922652f5",
   "metadata": {},
   "source": [
    "Теперь построим таблицу с полученными данными:"
   ]
  },
  {
   "cell_type": "code",
   "execution_count": 123,
   "id": "0d653d8b",
   "metadata": {},
   "outputs": [
    {
     "data": {
      "text/html": [
       "<div>\n",
       "<style scoped>\n",
       "    .dataframe tbody tr th:only-of-type {\n",
       "        vertical-align: middle;\n",
       "    }\n",
       "\n",
       "    .dataframe tbody tr th {\n",
       "        vertical-align: top;\n",
       "    }\n",
       "\n",
       "    .dataframe thead th {\n",
       "        text-align: right;\n",
       "    }\n",
       "</style>\n",
       "<table border=\"1\" class=\"dataframe\">\n",
       "  <thead>\n",
       "    <tr style=\"text-align: right;\">\n",
       "      <th>months_reg</th>\n",
       "      <th>0</th>\n",
       "      <th>1</th>\n",
       "      <th>2</th>\n",
       "      <th>3</th>\n",
       "      <th>4</th>\n",
       "      <th>5</th>\n",
       "      <th>6</th>\n",
       "    </tr>\n",
       "    <tr>\n",
       "      <th>id_point</th>\n",
       "      <th></th>\n",
       "      <th></th>\n",
       "      <th></th>\n",
       "      <th></th>\n",
       "      <th></th>\n",
       "      <th></th>\n",
       "      <th></th>\n",
       "    </tr>\n",
       "  </thead>\n",
       "  <tbody>\n",
       "    <tr>\n",
       "      <th>1178.0</th>\n",
       "      <td>12.0</td>\n",
       "      <td>11.0</td>\n",
       "      <td>18.0</td>\n",
       "      <td>21.0</td>\n",
       "      <td>12.0</td>\n",
       "      <td>13.0</td>\n",
       "      <td>14.0</td>\n",
       "    </tr>\n",
       "    <tr>\n",
       "      <th>1179.0</th>\n",
       "      <td>9.0</td>\n",
       "      <td>11.0</td>\n",
       "      <td>17.0</td>\n",
       "      <td>21.0</td>\n",
       "      <td>14.0</td>\n",
       "      <td>15.0</td>\n",
       "      <td>14.0</td>\n",
       "    </tr>\n",
       "    <tr>\n",
       "      <th>1182.0</th>\n",
       "      <td>7.0</td>\n",
       "      <td>6.0</td>\n",
       "      <td>14.0</td>\n",
       "      <td>19.0</td>\n",
       "      <td>14.0</td>\n",
       "      <td>19.0</td>\n",
       "      <td>21.0</td>\n",
       "    </tr>\n",
       "  </tbody>\n",
       "</table>\n",
       "</div>"
      ],
      "text/plain": [
       "months_reg     0     1     2     3     4     5     6\n",
       "id_point                                            \n",
       "1178.0      12.0  11.0  18.0  21.0  12.0  13.0  14.0\n",
       "1179.0       9.0  11.0  17.0  21.0  14.0  15.0  14.0\n",
       "1182.0       7.0   6.0  14.0  19.0  14.0  19.0  21.0"
      ]
     },
     "execution_count": 123,
     "metadata": {},
     "output_type": "execute_result"
    }
   ],
   "source": [
    "df_tt_mm_p = df_tt_mm.pivot(index='id_point', columns='months_reg', values='m_reg_perc').fillna(0)\n",
    "df_tt_mm_p"
   ]
  },
  {
   "cell_type": "markdown",
   "id": "219fce3b",
   "metadata": {},
   "source": [
    "И хитмап для наглядности:"
   ]
  },
  {
   "cell_type": "code",
   "execution_count": 133,
   "id": "e939f507",
   "metadata": {},
   "outputs": [
    {
     "data": {
      "text/plain": [
       "Text(0.5, 24.0, 'Месяц регистрации')"
      ]
     },
     "execution_count": 133,
     "metadata": {},
     "output_type": "execute_result"
    },
    {
     "data": {
      "image/png": "[encoded data removed]",
      "text/plain": [
       "<Figure size 720x360 with 2 Axes>"
      ]
     },
     "metadata": {
      "needs_background": "light"
     },
     "output_type": "display_data"
    }
   ],
   "source": [
    "f,ax = plt.subplots(figsize=(10, 5))\n",
    "ax.set_title('Распределение покупателей в торговых точках, %')\n",
    "sns.heatmap(df_tt_mm_p, annot=True, fmt= 'g', cmap=\"Blues\")\n",
    "ax.xaxis.set_ticks_position('top')\n",
    "ax.set_ylabel(ylabel = 'Торговая точка')\n",
    "ax.set_xlabel(xlabel = 'Месяц регистрации')"
   ]
  },
  {
   "cell_type": "markdown",
   "id": "73b002c2",
   "metadata": {},
   "source": [
    "В тт 1182 по сравнению с остальными больший процент покупателей с длительностью регистрации 5-8 месяцев, и именно в этой тт мы увидели положительный эффект от проведенной акции, а в остальных незначительный отрицательный эффект.\n",
    "\n",
    "В тт 1178 и 1179 больший по сравнению с тт 1182 процент клиентов в сегментах до 5 месяцев, что, вероятно нивелировало положительный эффект от акции в их малочисленных сегментах покупателей с регистрацией 5 и больше месяцев. Это отразилось на результатах тестов, которые не показали отличий в тестовых и контрольных группах в обоих торговых точках."
   ]
  },
  {
   "cell_type": "markdown",
   "id": "a54243b6",
   "metadata": {},
   "source": [
    "Еще немного итогов:\n",
    "\n",
    "- средняя покупка по всем покупателям в тестовой и контрольной группе:"
   ]
  },
  {
   "cell_type": "code",
   "execution_count": 213,
   "id": "4c375a74",
   "metadata": {},
   "outputs": [
    {
     "data": {
      "text/plain": [
       "(3325.1410029498525, 3460.840917298664)"
      ]
     },
     "execution_count": 213,
     "metadata": {},
     "output_type": "execute_result"
    }
   ],
   "source": [
    "r1 = df_clear[df_clear['id_group']=='control']['sum_pay'].mean()\n",
    "r2 = df_clear[df_clear['id_group']=='test']['sum_pay'].mean()\n",
    "r1, r2"
   ]
  },
  {
   "cell_type": "markdown",
   "id": "e6c74db2",
   "metadata": {},
   "source": [
    " - средняя покупка по всем покупателям в тестовой и контрольной группе без учета тт 1199, 1188 и 1186:"
   ]
  },
  {
   "cell_type": "code",
   "execution_count": 215,
   "id": "de9a642b",
   "metadata": {},
   "outputs": [
    {
     "data": {
      "text/plain": [
       "(3318.3650385604114, 3415.857114427861)"
      ]
     },
     "execution_count": 215,
     "metadata": {},
     "output_type": "execute_result"
    }
   ],
   "source": [
    "r1 = df_clear_tt[df_clear_tt['id_group']=='control']['sum_pay'].mean()\n",
    "r2 = df_clear_tt[df_clear_tt['id_group']=='test']['sum_pay'].mean()\n",
    "r1, r2"
   ]
  },
  {
   "cell_type": "markdown",
   "id": "a571e8d4",
   "metadata": {},
   "source": [
    "- выручка в тестовой и контрольной группе без учета тт 1199, 1188 и 1186:"
   ]
  },
  {
   "cell_type": "code",
   "execution_count": 216,
   "id": "b0f63b79",
   "metadata": {},
   "outputs": [
    {
     "data": {
      "text/plain": [
       "id_group\n",
       "control    16780972.0\n",
       "test       17164682.0\n",
       "Name: sum_pay, dtype: float64"
      ]
     },
     "execution_count": 216,
     "metadata": {},
     "output_type": "execute_result"
    }
   ],
   "source": [
    "df_clear_tt.groupby('id_group')['sum_pay'].sum()"
   ]
  },
  {
   "cell_type": "markdown",
   "id": "40180191",
   "metadata": {},
   "source": [
    "- выручка в тестовой и контрольной группе в тт 1199:"
   ]
  },
  {
   "cell_type": "code",
   "execution_count": 217,
   "id": "a49face4",
   "metadata": {},
   "outputs": [
    {
     "data": {
      "text/plain": [
       "id_group\n",
       "test    1836135.0\n",
       "Name: sum_pay, dtype: float64"
      ]
     },
     "execution_count": 217,
     "metadata": {},
     "output_type": "execute_result"
    }
   ],
   "source": [
    "df_clear.loc[df_clear['id_point'] == 1199].groupby('id_group')['sum_pay'].sum()"
   ]
  },
  {
   "cell_type": "markdown",
   "id": "89640928",
   "metadata": {},
   "source": [
    "- количество покупателей в тестовой и контрольной группе без учета тт 1199, 1188, 1186:"
   ]
  },
  {
   "cell_type": "code",
   "execution_count": 218,
   "id": "cb97f639",
   "metadata": {},
   "outputs": [
    {
     "data": {
      "text/plain": [
       "id_group\n",
       "control    5057\n",
       "test       5025\n",
       "Name: id_client, dtype: int64"
      ]
     },
     "execution_count": 218,
     "metadata": {},
     "output_type": "execute_result"
    }
   ],
   "source": [
    "df_clear_tt.groupby('id_group')['id_client'].count()"
   ]
  },
  {
   "cell_type": "code",
   "execution_count": 82,
   "id": "d220178c",
   "metadata": {},
   "outputs": [
    {
     "data": {
      "text/plain": [
       "id_group\n",
       "control    5085\n",
       "test       5538\n",
       "Name: id_client, dtype: int64"
      ]
     },
     "execution_count": 82,
     "metadata": {},
     "output_type": "execute_result"
    }
   ],
   "source": [
    "df_clear.groupby('id_group')['id_client'].count()"
   ]
  },
  {
   "cell_type": "code",
   "execution_count": 220,
   "id": "4e29ea51",
   "metadata": {},
   "outputs": [
    {
     "data": {
      "text/plain": [
       "id_group\n",
       "control    16908342.0\n",
       "test       19166137.0\n",
       "Name: sum_pay, dtype: float64"
      ]
     },
     "execution_count": 220,
     "metadata": {},
     "output_type": "execute_result"
    }
   ],
   "source": [
    "df_clear.groupby('id_group')['sum_pay'].sum()"
   ]
  },
  {
   "cell_type": "markdown",
   "id": "d8a28a55",
   "metadata": {},
   "source": [
    "- количество покупателей не купивших ничего в тестовой и контрольной группах без учета тт 1199:"
   ]
  },
  {
   "cell_type": "code",
   "execution_count": 219,
   "id": "fc1b5c0b",
   "metadata": {},
   "outputs": [
    {
     "data": {
      "text/plain": [
       "id_group\n",
       "control    25\n",
       "test       25\n",
       "Name: id_client, dtype: int64"
      ]
     },
     "execution_count": 219,
     "metadata": {},
     "output_type": "execute_result"
    }
   ],
   "source": [
    "df_clear_tt.loc[df_clear_tt['sum_pay'] == 0].groupby('id_group')['id_client'].count()"
   ]
  },
  {
   "cell_type": "code",
   "execution_count": 216,
   "id": "d31c9a72",
   "metadata": {},
   "outputs": [],
   "source": [
    "df_resum_pre = df_clear.groupby(['id_group', 'id_point'])['sum_pay'].sum().reset_index()\n",
    "df_resum_pre['sum_pay'] = df_resum_pre['sum_pay']/1000000"
   ]
  },
  {
   "cell_type": "code",
   "execution_count": 217,
   "id": "9cfc059b",
   "metadata": {},
   "outputs": [
    {
     "data": {
      "text/html": [
       "<div>\n",
       "<style scoped>\n",
       "    .dataframe tbody tr th:only-of-type {\n",
       "        vertical-align: middle;\n",
       "    }\n",
       "\n",
       "    .dataframe tbody tr th {\n",
       "        vertical-align: top;\n",
       "    }\n",
       "\n",
       "    .dataframe thead th {\n",
       "        text-align: right;\n",
       "    }\n",
       "</style>\n",
       "<table border=\"1\" class=\"dataframe\">\n",
       "  <thead>\n",
       "    <tr style=\"text-align: right;\">\n",
       "      <th></th>\n",
       "      <th>id_group</th>\n",
       "      <th>1178</th>\n",
       "      <th>1179</th>\n",
       "      <th>1182</th>\n",
       "      <th>1186</th>\n",
       "      <th>1188</th>\n",
       "      <th>1199</th>\n",
       "    </tr>\n",
       "  </thead>\n",
       "  <tbody>\n",
       "    <tr>\n",
       "      <th>0</th>\n",
       "      <td>control</td>\n",
       "      <td>7.208273</td>\n",
       "      <td>5.543763</td>\n",
       "      <td>4.028936</td>\n",
       "      <td>0.101360</td>\n",
       "      <td>0.026010</td>\n",
       "      <td>0.000000</td>\n",
       "    </tr>\n",
       "    <tr>\n",
       "      <th>1</th>\n",
       "      <td>test</td>\n",
       "      <td>6.954233</td>\n",
       "      <td>5.890156</td>\n",
       "      <td>4.320293</td>\n",
       "      <td>0.145536</td>\n",
       "      <td>0.019784</td>\n",
       "      <td>1.836135</td>\n",
       "    </tr>\n",
       "  </tbody>\n",
       "</table>\n",
       "</div>"
      ],
      "text/plain": [
       "  id_group      1178      1179      1182      1186      1188      1199\n",
       "0  control  7.208273  5.543763  4.028936  0.101360  0.026010  0.000000\n",
       "1     test  6.954233  5.890156  4.320293  0.145536  0.019784  1.836135"
      ]
     },
     "execution_count": 217,
     "metadata": {},
     "output_type": "execute_result"
    }
   ],
   "source": [
    "df_resum = df_resum_pre.pivot(index='id_group', columns='id_point', values='sum_pay').fillna(0)\n",
    "df_resum.columns = ('1178', '1179', '1182', '1186', '1188', '1199')\n",
    "df_resum.reset_index()"
   ]
  },
  {
   "cell_type": "code",
   "execution_count": 274,
   "id": "329e435e",
   "metadata": {},
   "outputs": [
    {
     "data": {
      "image/png": "[encoded data removed]",
      "text/plain": [
       "<Figure size 360x504 with 1 Axes>"
      ]
     },
     "metadata": {
      "needs_background": "light"
     },
     "output_type": "display_data"
    }
   ],
   "source": [
    "plt.rcParams[\"figure.figsize\"] = (5, 7)\n",
    "ax = df_resum.plot(kind='bar', stacked=True, rot = 'horizontal', color = ('steelblue', 'lightskyblue', 'powderblue', 'paleturquoise', 'turquoise', 'thistle'), alpha = 0.85)\n",
    "ax.set_axisbelow(True)\n",
    "plt.hlines(df_resum.loc['control'].sum(), -1, 2, colors = 'tab:grey', linestyles = 'dashed')\n",
    "plt.hlines(df_resum.loc['test'].sum(), -1, 2, colors = 'tab:pink', linestyles = 'dashed')\n",
    "plt.hlines(df_resum[['1178','1179', '1182', '1186', '1188']].loc['test'].sum(), -1, 2, colors = 'tab:cyan', linestyles = 'dashed')\n",
    "ax.set_xlabel('Группы')\n",
    "ax.set_ylabel('Сумма покупок, млн. руб.')\n",
    "ax.set_title('Общая сумма покупок в тестовой и контрольной группах')\n",
    "plt.grid(alpha = 0.4)\n",
    "plt.show()"
   ]
  },
  {
   "cell_type": "markdown",
   "id": "11991d86",
   "metadata": {},
   "source": [
    "### Выводы:\n",
    "    \n",
    "1. Проведение акции в целом дало значительный эффект, увеличив среднюю покупку и общую выручку, однако при ближайшем рассмотрении оказалось, что большая часть разницы в выручке пришлась на тт 1199, в которой отсутствовала контрольная группа. Вероятно, проведение акции совпало с открытием торговой точки, поэтому контрольной группы здесь не могло быть.\n",
    "2. В остальных торговых точках акция по-разному повлияла на покупки клиентов в разных сегментах по сроку регистрации в программе лояльности: у покупателей, зарегистрированные менее 5 месяцев, суммы покупок упали, у зарегистрированных 5 и дольше месяцев - выросли.\n",
    "\n",
    "Рекомендация: проведение акции имеет смысл распространять на покупателей в зависимости от длительности их регистрации в программе лояльности, акцент делать на зарегистрированных 5-8 месяцев."
   ]
  }
 ],
 "metadata": {
  "kernelspec": {
   "display_name": "Python 3 (ipykernel)",
   "language": "python",
   "name": "python3"
  },
  "language_info": {
   "codemirror_mode": {
    "name": "ipython",
    "version": 3
   },
   "file_extension": ".py",
   "mimetype": "text/x-python",
   "name": "python",
   "nbconvert_exporter": "python",
   "pygments_lexer": "ipython3",
   "version": "3.9.12"
  }
 },
 "nbformat": 4,
 "nbformat_minor": 5
}
